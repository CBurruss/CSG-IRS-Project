{
 "cells": [
  {
   "cell_type": "markdown",
   "id": "b3c1654e-f732-466d-9d7f-9b258cf4faac",
   "metadata": {},
   "source": [
    "# **Step 0 - Setup**"
   ]
  },
  {
   "cell_type": "code",
   "execution_count": 1,
   "id": "20d0edd6-25ab-4933-a753-32e98eefa4ac",
   "metadata": {
    "vscode": {
     "languageId": "python"
    }
   },
   "outputs": [],
   "source": [
    "# define table functions\n",
    "from terminaltables import AsciiTable\n",
    "\n",
    "def table(df):\n",
    "    table_data = [df.columns.tolist()] + df.values.tolist()\n",
    "    table = AsciiTable(table_data)\n",
    "    print(table.table)\n",
    "\n",
    "def table_h(df):\n",
    "    # Select the first 15 rows\n",
    "    df_selected = pd.concat([df.head(15)])\n",
    "    \n",
    "    # Prepare the table data: first row is the column names and the rest is the data\n",
    "    table_data = [df.columns.tolist()] + df_selected.values.tolist()\n",
    "    \n",
    "    # Create and print the table\n",
    "    table = AsciiTable(table_data)\n",
    "    print(table.table)\n",
    "\n",
    "def table_s(df):\n",
    "    # Select the first 4 and last 4 columns\n",
    "    df_selected = df.iloc[:, :4].join(df.iloc[:, -4:])\n",
    "    \n",
    "    # Prepare the table data: first row is the column names and the rest is the data\n",
    "    table_data = [df_selected.columns.tolist()] + df_selected.values.tolist()\n",
    "    \n",
    "    # Create and print the table\n",
    "    table = AsciiTable(table_data)\n",
    "    print(table.table)\n",
    "\n",
    "def table_xs(df):\n",
    "    # Select the first 3 and last 3 columns\n",
    "    df_selected = df.iloc[:, :3].join(df.iloc[:, -3:])\n",
    "    \n",
    "    # Prepare the table data: first row is the column names and the rest is the data\n",
    "    table_data = [df_selected.columns.tolist()] + df_selected.values.tolist()\n",
    "    \n",
    "    # Create and print the table\n",
    "    table = AsciiTable(table_data)\n",
    "    print(table.table)"
   ]
  },
  {
   "cell_type": "code",
   "execution_count": 2,
   "id": "5761e65f-39f1-48e7-a165-b3087a2bc6da",
   "metadata": {
    "vscode": {
     "languageId": "python"
    }
   },
   "outputs": [],
   "source": [
    "# define pasteurize function\n",
    "import re\n",
    "\n",
    "def pasteurize(df):\n",
    "\n",
    "    def clean_column_names(col_name):\n",
    "\n",
    "        cleaned = col_name.lower()\n",
    "        cleaned = re.sub(r'[^a-z0-9_]', '_', cleaned)\n",
    "        cleaned = re.sub(r'_+', '_', cleaned)\n",
    "        cleaned = cleaned.strip('_')\n",
    "        return cleaned\n",
    "        \n",
    "    return (df\n",
    "            .dropna(how='all')\n",
    "            .drop_duplicates()\n",
    "            .rename(columns=clean_column_names)\n",
    "            .applymap(lambda x: x.strip() if isinstance(x, str) else x))"
   ]
  },
  {
   "cell_type": "markdown",
   "id": "06d873e9-877d-4065-ade8-5594428accf7",
   "metadata": {
    "jp-MarkdownHeadingCollapsed": true
   },
   "source": [
    "# **Step 1 - Munge transactions**"
   ]
  },
  {
   "cell_type": "markdown",
   "id": "76214796-7c6a-4d21-bea7-f8834220eb8f",
   "metadata": {},
   "source": [
    "**Define a function for processing pitbull transaction files**"
   ]
  },
  {
   "cell_type": "code",
   "execution_count": 3,
   "id": "708ce4af-eb81-4699-ab2e-d1bfc34b977b",
   "metadata": {
    "vscode": {
     "languageId": "python"
    }
   },
   "outputs": [],
   "source": [
    "import pdfplumber\n",
    "import re\n",
    "from typing import Dict, List, Tuple\n",
    "import pandas as pd\n",
    "from pathlib import Path\n",
    "\n",
    "def extract_tax_info(pdf_path: str) -> Tuple[Dict[str, str], List[Tuple[str, str]]]:\n",
    "    \"\"\"\n",
    "    Extract specific tax information from a PDF file.\n",
    "    \n",
    "    Args:\n",
    "        pdf_path: Path to the PDF file\n",
    "    \n",
    "    Returns:\n",
    "        Tuple containing:\n",
    "        - Dictionary with taxpayer info (name and EIN)\n",
    "        - List of tuples with (period, refunds) for each row\n",
    "    \"\"\"\n",
    "    # Initialize data structures\n",
    "    taxpayer_info = {}\n",
    "    period_refunds = []\n",
    "    \n",
    "    with pdfplumber.open(pdf_path) as pdf:\n",
    "        # Get text from first page\n",
    "        text = pdf.pages[2].extract_text()\n",
    "        \n",
    "        # Extract taxpayer information using regex\n",
    "        name_match = re.search(r'Taxpayer Name: (.+?)(?:\\n|Taxpayer)', text)\n",
    "        ein_match = re.search(r'Taxpayer EIN: (.+?)(?:\\n|$)', text)\n",
    "        \n",
    "        if name_match:\n",
    "            taxpayer_info['name'] = name_match.group(1).strip()\n",
    "        if ein_match:\n",
    "            taxpayer_info['ein'] = ein_match.group(1).strip()\n",
    "        \n",
    "        # Extract table data\n",
    "        lines = text.split('\\n')\n",
    "        for line in lines:\n",
    "            if re.match(r'\\d{2}/\\d{4}', line):\n",
    "                columns = line.split()\n",
    "                period = columns[0]\n",
    "                refunds = columns[-4] if len(columns) >= 4 else ''\n",
    "                \n",
    "                period_refunds.append((period, refunds))\n",
    "    \n",
    "    return taxpayer_info, period_refunds\n",
    "\n",
    "def process_pdf_folder(folder_path: str) -> pd.DataFrame:\n",
    "    \"\"\"\n",
    "    Process all PDFs in a folder and return results as a DataFrame.\n",
    "    \n",
    "    Args:\n",
    "        folder_path: Path to folder containing PDFs\n",
    "    \n",
    "    Returns:\n",
    "        pandas DataFrame with extracted information\n",
    "    \"\"\"\n",
    "    # Initialize lists to store data\n",
    "    all_data = []\n",
    "    \n",
    "    # Get all PDF files in the folder\n",
    "    pdf_files = Path(folder_path).glob('*.pdf')\n",
    "    \n",
    "    for pdf_path in pdf_files:\n",
    "        try:\n",
    "            taxpayer_info, period_refunds = extract_tax_info(str(pdf_path))\n",
    "            \n",
    "            # Create a row for each period/refund combination\n",
    "            for period, refund in period_refunds:\n",
    "                row_data = {\n",
    "                    'file_name': pdf_path.name,\n",
    "                    'taxpayer_name': taxpayer_info.get('name', ''),\n",
    "                    'taxpayer_ein': taxpayer_info.get('ein', ''),\n",
    "                    'period': period,\n",
    "                    'refunds': refund\n",
    "                }\n",
    "                all_data.append(row_data)\n",
    "                \n",
    "        except Exception as e:\n",
    "            print(f\"Error processing {pdf_path.name}: {str(e)}\")\n",
    "            continue\n",
    "    \n",
    "    # Create DataFrame\n",
    "    df = pd.DataFrame(all_data)\n",
    "    \n",
    "    # Clean up refunds column (remove parentheses and convert to numeric)\n",
    "    df['refunds'] = df['refunds'].str.replace('[$(),]', '', regex=True)\n",
    "    df['refunds'] = pd.to_numeric(df['refunds'], errors='coerce')\n",
    "    \n",
    "    return df"
   ]
  },
  {
   "cell_type": "code",
   "execution_count": null,
   "id": "fd77d782",
   "metadata": {
    "vscode": {
     "languageId": "python"
    }
   },
   "outputs": [],
   "source": [
    "if __name__ == \"__main__\":\n",
    "    folder_path = './pitbull/01-30-25' # Replace with your folder path\n",
    "    \n",
    "    try:\n",
    "        # Process all PDFs and create DataFrame\n",
    "        df = process_pdf_folder(folder_path)\n",
    "        \n",
    "        # Display first few rows\n",
    "        print(\"\\nFirst few rows of the DataFrame:\")\n",
    "        print(df.head())\n",
    "        \n",
    "        # Basic statistics\n",
    "        print(\"\\nDataFrame Info:\")\n",
    "        print(df.info())\n",
    "        \n",
    "        # Optionally save to CSV\n",
    "        # df.to_csv('tax_data.csv', index=False)\n",
    "        \n",
    "    except Exception as e:\n",
    "        print(f\"Error: {str(e)}\")"
   ]
  },
  {
   "cell_type": "markdown",
   "id": "140bcbe7-ab4d-4632-a8f3-b12fb0574c88",
   "metadata": {},
   "source": [
    "**Create quarter_year column**"
   ]
  },
  {
   "cell_type": "code",
   "execution_count": 5,
   "id": "e88f34cf",
   "metadata": {
    "vscode": {
     "languageId": "python"
    }
   },
   "outputs": [],
   "source": [
    "import coconut\n",
    "%load_ext coconut"
   ]
  },
  {
   "cell_type": "code",
   "execution_count": 7,
   "id": "8f5feeeb-e4ed-4f41-ab99-f6f634c1c58c",
   "metadata": {
    "vscode": {
     "languageId": "python"
    }
   },
   "outputs": [
    {
     "name": "stdout",
     "output_type": "stream",
     "text": [
      "+--------------+---------+--------------+----------+\n",
      "| taxpayer_ein | period  | quarter_year | refunds  |\n",
      "+--------------+---------+--------------+----------+\n",
      "| XX-XXX5545   | 06/2020 | Q2_2020      | 35115.6  |\n",
      "| XX-XXX5545   | 09/2020 | Q3_2020      | 61591.56 |\n",
      "| XX-XXX5545   | 12/2020 | Q4_2020      | 0.0      |\n",
      "| XX-XXX5545   | 03/2021 | Q1_2021      | 63341.07 |\n",
      "| XX-XXX5545   | 06/2021 | Q2_2021      | 0.0      |\n",
      "| XX-XXX5545   | 09/2021 | Q3_2021      | 0.0      |\n",
      "| XX-XXX5545   | 12/2021 | Q4_2021      | 0.0      |\n",
      "| XX-XXX5545   | 06/2020 | Q2_2020      | 35115.6  |\n",
      "| XX-XXX5545   | 09/2020 | Q3_2020      | 61591.56 |\n",
      "| XX-XXX5545   | 12/2020 | Q4_2020      | 0.0      |\n",
      "| XX-XXX5545   | 03/2021 | Q1_2021      | 63341.07 |\n",
      "| XX-XXX5545   | 06/2021 | Q2_2021      | 0.0      |\n",
      "| XX-XXX5545   | 09/2021 | Q3_2021      | 0.0      |\n",
      "| XX-XXX5545   | 12/2021 | Q4_2021      | 0.0      |\n",
      "| XX-XXX7945   | 06/2020 | Q2_2020      | 0.0      |\n",
      "+--------------+---------+--------------+----------+\n"
     ]
    }
   ],
   "source": [
    " %%coconut\n",
    "\n",
    "from siuba import *\n",
    "\n",
    "df = df |> mutate(\n",
    "    quarter_year = case_when({\n",
    "        _.period == '06/2020': 'Q2_2020', \n",
    "        _.period == '09/2020': 'Q3_2020', \n",
    "        _.period == '12/2020': 'Q4_2020',\n",
    "        _.period == '03/2021': 'Q1_2021',\n",
    "        _.period == '06/2021': 'Q2_2021',\n",
    "        _.period == '09/2021': 'Q3_2021',\n",
    "        _.period == '12/2021': 'Q4_2021'\n",
    "    })\n",
    ") \n",
    "\n",
    "df = df |> select(_.taxpayer_name, \n",
    "            _.taxpayer_ein, \n",
    "            _.period, \n",
    "            _.quarter_year, \n",
    "            _.refunds)\n",
    "\n",
    "df |> select (-_.taxpayer_name) |> table_h"
   ]
  },
  {
   "cell_type": "markdown",
   "id": "8c46780b-8948-403b-8b56-e6211d8b174f",
   "metadata": {},
   "source": [
    "**Define function for pivoting on quarters**"
   ]
  },
  {
   "cell_type": "code",
   "execution_count": 8,
   "id": "155d2553-4def-43e5-a503-2d231aec09bc",
   "metadata": {
    "vscode": {
     "languageId": "python"
    }
   },
   "outputs": [],
   "source": [
    "def create_quarter_columns(df: pd.DataFrame) -> pd.DataFrame:\n",
    "    \"\"\"\n",
    "    Creates a wide-format dataframe with separate columns for each quarter's refunds.\n",
    "    \n",
    "    Args:\n",
    "        df: DataFrame with columns [taxpayer_name, taxpayer_ein, quarter_year, refunds]\n",
    "    \n",
    "    Returns:\n",
    "        DataFrame with a column for each quarter's refund amount\n",
    "    \"\"\"\n",
    "    # Create refund pivot\n",
    "    refund_pivot = pd.pivot_table(\n",
    "        data=df,\n",
    "        index=['taxpayer_name', 'taxpayer_ein'],\n",
    "        columns='quarter_year',\n",
    "        values='refunds',\n",
    "        fill_value=pd.NA\n",
    "    )\n",
    "    \n",
    "    # Add prefix to column names\n",
    "    refund_pivot.columns = [f'refunds_{col}' for col in refund_pivot.columns]\n",
    "    \n",
    "    # Reset index to make taxpayer_name and taxpayer_ein regular columns, and fill NANs with 0s\n",
    "    final_df = refund_pivot.reset_index().fillna(0)\n",
    "    \n",
    "    return final_df"
   ]
  },
  {
   "cell_type": "code",
   "execution_count": 10,
   "id": "5e674d9f-a85f-4d17-92af-3e967d12ee5c",
   "metadata": {
    "scrolled": true,
    "vscode": {
     "languageId": "python"
    }
   },
   "outputs": [
    {
     "name": "stdout",
     "output_type": "stream",
     "text": [
      "+--------------+-----------------+-----------------+-----------------+-----------------+-----------------+-----------------+-----------------+--------------+-----------+\n",
      "| taxpayer_ein | refunds_Q1_2021 | refunds_Q2_2020 | refunds_Q2_2021 | refunds_Q3_2020 | refunds_Q3_2021 | refunds_Q4_2020 | refunds_Q4_2021 | refund_total | tin_trail |\n",
      "+--------------+-----------------+-----------------+-----------------+-----------------+-----------------+-----------------+-----------------+--------------+-----------+\n",
      "| XX-XXX5545   | 63341.07        | 35115.6         | 0.0             | 61591.56        | 0.0             | 0.0             | 0.0             | 160048.23    | 5545      |\n",
      "| XX-XXX7945   | 0.0             | 0.0             | 0.0             | 0.0             | 2641.57         | 0.0             | 0.0             | 2641.57      | 7945      |\n",
      "| XX-XXX1523   | 0.0             | 7860.09         | 0.0             | 20082.07        | 0.0             | 26859.89        | 0.0             | 54802.05     | 1523      |\n",
      "| XX-XXX4167   | 2811.81         | 4297.54         | 0.0             | 4027.46         | 0.0             | 0.0             | 0.0             | 11136.81     | 4167      |\n",
      "| XX-XXX3205   | 0.0             | 0.0             | 0.0             | 0.0             | 0.0             | 0.0             | 0.0             | 0.0          | 3205      |\n",
      "| XX-XXX3969   | 0.0             | 0.0             | 0.0             | 0.0             | 0.0             | 0.0             | 0.0             | 0.0          | 3969      |\n",
      "| XX-XXX9742   | 0.0             | 0.0             | 0.0             | 0.0             | 0.0             | 0.0             | 0.0             | 0.0          | 9742      |\n",
      "| XX-XXX8326   | 0.0             | 0.0             | 0.0             | 0.0             | 0.0             | 0.0             | 0.0             | 0.0          | 8326      |\n",
      "| XX-XXX1669   | 0.0             | 96603.36        | 0.0             | 0.0             | 0.0             | 0.0             | 0.0             | 96603.36     | 1669      |\n",
      "| XX-XXX2002   | 0.0             | 0.0             | 0.0             | 0.0             | 0.0             | 0.0             | 0.0             | 0.0          | 2002      |\n",
      "| XX-XXX6843   | 0.0             | 0.0             | 0.0             | 0.0             | 0.0             | 0.0             | 0.0             | 0.0          | 6843      |\n",
      "| XX-XXX6731   | 0.0             | 0.0             | 0.0             | 0.0             | 0.0             | 0.0             | 0.0             | 0.0          | 6731      |\n",
      "| XX-XXX0063   | 0.0             | 21808.07        | 0.0             | 1947.35         | 38857.24        | 0.0             | 0.0             | 62612.66     | 0063      |\n",
      "| XX-XXX4563   | 37200.65        | 0.0             | 0.0             | 0.0             | 0.0             | 0.0             | 0.0             | 37200.65     | 4563      |\n",
      "| XX-XXX8492   | 15.72           | 324.71          | 5.98            | 13.37           | 13.92           | 84.56           | 0.0             | 458.26       | 8492      |\n",
      "+--------------+-----------------+-----------------+-----------------+-----------------+-----------------+-----------------+-----------------+--------------+-----------+\n"
     ]
    }
   ],
   "source": [
    "%%coconut\n",
    "\n",
    "# apply the pivot function and create a new column for tracking the total refunds for each quarter\n",
    "transactions = df.copy() \\\n",
    "    |> create_quarter_columns \\\n",
    "    |> mutate(\n",
    "        refund_total = \n",
    "        _.refunds_Q2_2020.fillna(0) + \n",
    "        _.refunds_Q3_2020.fillna(0) + \n",
    "        _.refunds_Q4_2020.fillna(0) + \n",
    "        _.refunds_Q1_2021.fillna(0) + \n",
    "        _.refunds_Q2_2021.fillna(0) + \n",
    "        _.refunds_Q3_2021.fillna(0) + \n",
    "        _.refunds_Q4_2021.fillna(0)\n",
    "    ) |> _.round(2)\n",
    "\n",
    "# also add a column for the tin trail\n",
    "transactions = transactions |> mutate(\n",
    "    tin_trail = _.taxpayer_ein.apply(lambda x: \n",
    "            re.search(r'XX-XXX(\\d{4})', x).group(1) if pd.notna(x) else None)\n",
    ")\n",
    "\n",
    "transactions |> select(-_.taxpayer_name) |> head(15) |> table"
   ]
  },
  {
   "cell_type": "markdown",
   "id": "c524a153-3ed1-464f-9b7b-235255240916",
   "metadata": {},
   "source": [
    "**Load in client list**"
   ]
  },
  {
   "cell_type": "code",
   "execution_count": 12,
   "id": "4a1f8e93-cbbb-4ddf-a4eb-835949a5665b",
   "metadata": {
    "scrolled": true,
    "vscode": {
     "languageId": "python"
    }
   },
   "outputs": [
    {
     "name": "stdout",
     "output_type": "stream",
     "text": [
      "+-----------+\n",
      "| tin_trail |\n",
      "+-----------+\n",
      "| 5217      |\n",
      "| 7485      |\n",
      "| 8326      |\n",
      "| 6167      |\n",
      "| 5252      |\n",
      "| 1055      |\n",
      "| 7829      |\n",
      "| 1098      |\n",
      "| 8142      |\n",
      "| 5545      |\n",
      "| 4890      |\n",
      "| 4990      |\n",
      "| 8731      |\n",
      "| 8728      |\n",
      "| 6160      |\n",
      "+-----------+\n"
     ]
    }
   ],
   "source": [
    "%%coconut\n",
    "\n",
    "import re\n",
    "\n",
    "clients = pd.read_csv('transcript-log.csv') \\\n",
    "    |> pasteurize \\\n",
    "    |> select(~_.quarters_filed) \\\n",
    "    |> mutate(\n",
    "        tin_trail = _.tin.apply(lambda x: \n",
    "            re.search(r'\\d{2}-\\d{3}(\\d{4})', x).group(1) if pd.notna(x) else None)\n",
    "    )\n",
    "\n",
    "clients |> select(_.tin_trail) |> head(15) |> table "
   ]
  },
  {
   "cell_type": "markdown",
   "id": "9bbf3f9f-3b4e-43af-9d42-a3255274a148",
   "metadata": {},
   "source": [
    "**Join the transactions with the client list**"
   ]
  },
  {
   "cell_type": "code",
   "execution_count": 14,
   "id": "bf7a0cea-def6-485f-bb75-6d14a4368339",
   "metadata": {
    "scrolled": true,
    "vscode": {
     "languageId": "python"
    }
   },
   "outputs": [
    {
     "name": "stdout",
     "output_type": "stream",
     "text": [
      "+--------------+-----------------+-----------------+-----------------+-----------------+-----------------+-----------------+-----------------+\n",
      "| refund_total | refunds_Q2_2020 | refunds_Q3_2020 | refunds_Q4_2020 | refunds_Q1_2021 | refunds_Q2_2021 | refunds_Q3_2021 | refunds_Q4_2021 |\n",
      "+--------------+-----------------+-----------------+-----------------+-----------------+-----------------+-----------------+-----------------+\n",
      "| 160048.23    | 35115.6         | 61591.56        | 0.0             | 63341.07        | 0.0             | 0.0             | 0.0             |\n",
      "| 2641.57      | 0.0             | 0.0             | 0.0             | 0.0             | 0.0             | 2641.57         | 0.0             |\n",
      "| 54802.05     | 7860.09         | 20082.07        | 26859.89        | 0.0             | 0.0             | 0.0             | 0.0             |\n",
      "| 11136.81     | 4297.54         | 4027.46         | 0.0             | 2811.81         | 0.0             | 0.0             | 0.0             |\n",
      "| 0.0          | 0.0             | 0.0             | 0.0             | 0.0             | 0.0             | 0.0             | 0.0             |\n",
      "| 0.0          | 0.0             | 0.0             | 0.0             | 0.0             | 0.0             | 0.0             | 0.0             |\n",
      "| 0.0          | 0.0             | 0.0             | 0.0             | 0.0             | 0.0             | 0.0             | 0.0             |\n",
      "| 0.0          | 0.0             | 0.0             | 0.0             | 0.0             | 0.0             | 0.0             | 0.0             |\n",
      "| 96603.36     | 96603.36        | 0.0             | 0.0             | 0.0             | 0.0             | 0.0             | 0.0             |\n",
      "| 0.0          | 0.0             | 0.0             | 0.0             | 0.0             | 0.0             | 0.0             | 0.0             |\n",
      "| 0.0          | 0.0             | 0.0             | 0.0             | 0.0             | 0.0             | 0.0             | 0.0             |\n",
      "| 0.0          | 0.0             | 0.0             | 0.0             | 0.0             | 0.0             | 0.0             | 0.0             |\n",
      "| 62612.66     | 21808.07        | 1947.35         | 0.0             | 0.0             | 0.0             | 38857.24        | 0.0             |\n",
      "| 37200.65     | 0.0             | 0.0             | 0.0             | 37200.65        | 0.0             | 0.0             | 0.0             |\n",
      "| 458.26       | 324.71          | 13.37           | 84.56           | 15.72           | 5.98            | 13.92           | 0.0             |\n",
      "+--------------+-----------------+-----------------+-----------------+-----------------+-----------------+-----------------+-----------------+\n"
     ]
    }
   ],
   "source": [
    "%%coconut\n",
    "\n",
    "df_joined = transactions.merge(\n",
    "    clients,\n",
    "    how='left',\n",
    "    on='tin_trail'\n",
    ")\n",
    "\n",
    "df_joined = df_joined |> select('taxpayer_name', \n",
    "                                'tin', \n",
    "                                'refund_total',\n",
    "                                'refunds_Q2_2020', \n",
    "                                'refunds_Q3_2020', \n",
    "                                'refunds_Q4_2020',\n",
    "                                'refunds_Q1_2021', \n",
    "                                'refunds_Q2_2021',\n",
    "                                'refunds_Q3_2021',\n",
    "                                'refunds_Q4_2021'\n",
    "                               )\n",
    "\n",
    "df_joined |> select(-_.taxpayer_name, \n",
    "                    -_.tin) \\\n",
    "            |> head(15) \\\n",
    "            |> table"
   ]
  },
  {
   "cell_type": "code",
   "execution_count": 12,
   "id": "c5206ccb-fc59-48d0-b866-989cda4ad051",
   "metadata": {
    "vscode": {
     "languageId": "python"
    }
   },
   "outputs": [],
   "source": [
    "# export the joined table\n",
    "df_joined.to_csv('transcations-processed-01-30.csv', index = False)"
   ]
  },
  {
   "cell_type": "code",
   "execution_count": 16,
   "id": "1263acec-1a80-4b76-a487-25d18212a275",
   "metadata": {
    "scrolled": true,
    "vscode": {
     "languageId": "python"
    }
   },
   "outputs": [
    {
     "name": "stdout",
     "output_type": "stream",
     "text": [
      "+--------------+-----------------+-----------------+-----------------+-----------------+-----------------+-----------------+-----------------+\n",
      "| refund_total | refunds_Q2_2020 | refunds_Q3_2020 | refunds_Q4_2020 | refunds_Q1_2021 | refunds_Q2_2021 | refunds_Q3_2021 | refunds_Q4_2021 |\n",
      "+--------------+-----------------+-----------------+-----------------+-----------------+-----------------+-----------------+-----------------+\n",
      "| 160048.23    | 35115.6         | 61591.56        | 0.0             | 63341.07        | 0.0             | 0.0             | 0.0             |\n",
      "| 2641.57      | 0.0             | 0.0             | 0.0             | 0.0             | 0.0             | 2641.57         | 0.0             |\n",
      "| 54802.05     | 7860.09         | 20082.07        | 26859.89        | 0.0             | 0.0             | 0.0             | 0.0             |\n",
      "| 11136.81     | 4297.54         | 4027.46         | 0.0             | 2811.81         | 0.0             | 0.0             | 0.0             |\n",
      "| 0.0          | 0.0             | 0.0             | 0.0             | 0.0             | 0.0             | 0.0             | 0.0             |\n",
      "| 0.0          | 0.0             | 0.0             | 0.0             | 0.0             | 0.0             | 0.0             | 0.0             |\n",
      "| 0.0          | 0.0             | 0.0             | 0.0             | 0.0             | 0.0             | 0.0             | 0.0             |\n",
      "| 0.0          | 0.0             | 0.0             | 0.0             | 0.0             | 0.0             | 0.0             | 0.0             |\n",
      "| 96603.36     | 96603.36        | 0.0             | 0.0             | 0.0             | 0.0             | 0.0             | 0.0             |\n",
      "| 0.0          | 0.0             | 0.0             | 0.0             | 0.0             | 0.0             | 0.0             | 0.0             |\n",
      "| 0.0          | 0.0             | 0.0             | 0.0             | 0.0             | 0.0             | 0.0             | 0.0             |\n",
      "| 0.0          | 0.0             | 0.0             | 0.0             | 0.0             | 0.0             | 0.0             | 0.0             |\n",
      "| 62612.66     | 21808.07        | 1947.35         | 0.0             | 0.0             | 0.0             | 38857.24        | 0.0             |\n",
      "| 37200.65     | 0.0             | 0.0             | 0.0             | 37200.65        | 0.0             | 0.0             | 0.0             |\n",
      "| 458.26       | 324.71          | 13.37           | 84.56           | 15.72           | 5.98            | 13.92           | 0.0             |\n",
      "+--------------+-----------------+-----------------+-----------------+-----------------+-----------------+-----------------+-----------------+\n"
     ]
    }
   ],
   "source": [
    "%%coconut\n",
    "\n",
    "# read in the joined table\n",
    "transactions_proc = pd.read_csv('transcations-processed-01-30.csv')\n",
    "\n",
    "transactions_proc |> select(-_.taxpayer_name, -_.tin) |> table_h"
   ]
  },
  {
   "cell_type": "markdown",
   "id": "86bb9bbe-2124-4858-9c12-1ef4f49cd942",
   "metadata": {},
   "source": [
    "# **Step 2 - Munge 941-x forms for EIN, year and quarter**"
   ]
  },
  {
   "cell_type": "code",
   "execution_count": 17,
   "id": "cef10e1e-855a-4b65-844a-83d49e42e070",
   "metadata": {
    "vscode": {
     "languageId": "python"
    }
   },
   "outputs": [
    {
     "name": "stdout",
     "output_type": "stream",
     "text": [
      "Files found: 330\n"
     ]
    }
   ],
   "source": [
    "%%coconut\n",
    "\n",
    "from pathlib import Path \n",
    "import pdfplumber\n",
    "\n",
    "folder_path = Path('./941s')\n",
    "\n",
    "def extract_text_from_pdf(pdf_path):\n",
    "    all_text = []\n",
    "    with pdfplumber.open(pdf_path) as pdf:\n",
    "        for page in pdf.pages:\n",
    "            text = page.extract_text()\n",
    "            all_text.append(text)\n",
    "    return '\\n'.join(all_text)\n",
    "\n",
    "# Use with:\n",
    "files = folder_path.glob('*.pdf')\n",
    "\n",
    "# Check:\n",
    "print(f'Files found: {files |> list |> len}')\n",
    "for file in files:\n",
    "    print(file.name)"
   ]
  },
  {
   "cell_type": "code",
   "execution_count": 18,
   "id": "a8a601a2-9fcc-45be-887e-b64f924e03e6",
   "metadata": {
    "vscode": {
     "languageId": "python"
    }
   },
   "outputs": [],
   "source": [
    "# For EIN - handles both formats:\n",
    "# 1. \"12 – 3456789\" (connected)\n",
    "# 2. \"12 3456789\" (split across lines with optional dash)\n",
    "ein_pattern = r'(\\d{2}\\s*[–-]\\s*\\d{7})'\n",
    "# ein_pattern = r'(\\d{2}\\s*[–-]?\\s*\\d{7})'\n",
    "\n",
    "# For quarter (single digit after 'quarter')\n",
    "quarter_pattern = r'Check the ONE quarter.+?(\\d)'\n",
    "# quarter_pattern = r'quarter\\s+(\\d)'\n",
    "\n",
    "# For year - handle both:\n",
    "# 1. \"2020\" (on same line)\n",
    "# 2. \"– 2021\" (on next line)\n",
    "year_pattern = r'(?:calendar year|YYYY)[^0-9]*(\\d{4})'\n",
    "# year_pattern = r'(?:\\d{7}|–)\\s*(\\d{4})'"
   ]
  },
  {
   "cell_type": "code",
   "execution_count": 19,
   "id": "33b9f832-7446-4f23-ba3e-3c714cc82699",
   "metadata": {
    "vscode": {
     "languageId": "python"
    }
   },
   "outputs": [
    {
     "name": "stdout",
     "output_type": "stream",
     "text": [
      "Test Case 1:\n",
      "{'ein': '12 – 3456789', 'quarter': None, 'year': None}\n",
      "\n",
      "Test Case 2:\n",
      "{'ein': None, 'quarter': None, 'year': None}\n"
     ]
    }
   ],
   "source": [
    "import re\n",
    "\n",
    "# Test case 1\n",
    "text1 = \"\"\"Name (not your trade name) Employer identification number (EIN) Correcting quarter 2 (1, 2, 3, 4)\n",
    "Correcting calendar year (YYYY)\n",
    "[       ], LLC [      ] 12 – 3456789 2020\"\"\"\n",
    "\n",
    "# Test case 2\n",
    "text2 = \"\"\"Name (not your trade name) Employer identification number (EIN) Correcting quarter 1 (1, 2, 3, 4)\n",
    "Correcting calendar year (YYYY)\n",
    "[         ] 12 3456789\n",
    "– 2021\"\"\"\n",
    "\n",
    "def extract_info(text):\n",
    "    ein = re.search(ein_pattern, text)\n",
    "    quarter = re.search(quarter_pattern, text)\n",
    "    year = re.search(year_pattern, text)\n",
    "    \n",
    "    return {\n",
    "        'ein': ein.group(1) if ein else None,\n",
    "        'quarter': quarter.group(1) if quarter else None,\n",
    "        'year': year.group(1) if year else None\n",
    "    }\n",
    "\n",
    "print(\"Test Case 1:\")\n",
    "print(extract_info(text1))\n",
    "print(\"\\nTest Case 2:\")\n",
    "print(extract_info(text2))"
   ]
  },
  {
   "cell_type": "markdown",
   "id": "9fbfbb7f-59f6-47af-9a80-7944ed942f24",
   "metadata": {},
   "source": [
    "**Define a function for extracing EIN, year & quarter**"
   ]
  },
  {
   "cell_type": "code",
   "execution_count": null,
   "id": "c22defb5-46ea-4150-91aa-9ca7c04edf44",
   "metadata": {
    "vscode": {
     "languageId": "python"
    }
   },
   "outputs": [],
   "source": [
    "def process_page(page):\n",
    "    text = page.extract_text()\n",
    "    \n",
    "    # Print first chunk of text for debugging\n",
    "    print(\"First 500 characters of extracted text:\")\n",
    "    print(text[:500])\n",
    "    print(\"\\n-------------------\\n\")\n",
    "    \n",
    "    # Modified patterns\n",
    "    ein_pattern = r'\\b(\\d{2}\\s*[–-]\\s*\\d{7})\\b'  # Added word boundaries\n",
    "    quarter_pattern = r'(?:Correcting\\s+quarter|quarter)\\s*(\\d)'  # Made more flexible\n",
    "    year_pattern_1 = r'\\b\\d{2}\\s*[–-]\\s*\\d{7}\\s+(\\d{4})\\b'\n",
    "    year_pattern_2 = r'(?:calendar\\s+year|year).*?(\\d{4})'\n",
    "    \n",
    "    # Extract info using our patterns\n",
    "    ein = re.search(ein_pattern, text)\n",
    "    quarter = re.search(quarter_pattern, text)\n",
    "    \n",
    "    # Try both year patterns\n",
    "    year = None\n",
    "    year_match_1 = re.search(year_pattern_1, text)\n",
    "    year_match_2 = re.search(year_pattern_2, text, re.DOTALL | re.IGNORECASE)\n",
    "    \n",
    "    print(\"Matches found:\")\n",
    "    print(f\"EIN match: {ein.group(1) if ein else None}\")\n",
    "    print(f\"Quarter match: {quarter.group(1) if quarter else None}\")\n",
    "    print(f\"Year match 1: {year_match_1.group(1) if year_match_1 else None}\")\n",
    "    print(f\"Year match 2: {year_match_2.group(1) if year_match_2 else None}\")\n",
    "    \n",
    "    if year_match_1:\n",
    "        year = year_match_1.group(1)\n",
    "    elif year_match_2:\n",
    "        year = year_match_2.group(1)\n",
    "    \n",
    "    return {\n",
    "        'ein': ein.group(1) if ein else None,\n",
    "        'quarter': quarter.group(1) if quarter else None,\n",
    "        'year': year\n",
    "    }\n",
    "\n",
    "# Test on your specific file\n",
    "with pdfplumber.open(\"./941s/Go Blue Q1 2021.pdf\") as pdf:\n",
    "    info = process_page(pdf.pages[1])\n",
    "    print(\"\\nFinal extracted info:\")\n",
    "    print(info)"
   ]
  },
  {
   "cell_type": "markdown",
   "id": "8f8badd8-6e2e-4360-a8e0-1aad61df2904",
   "metadata": {},
   "source": [
    "**Define a function for processing all good 941s**"
   ]
  },
  {
   "cell_type": "code",
   "execution_count": 21,
   "id": "0f81c1cc-48e5-474b-9454-a740fe6ef32d",
   "metadata": {
    "vscode": {
     "languageId": "python"
    }
   },
   "outputs": [],
   "source": [
    "from pathlib import Path\n",
    "import pdfplumber\n",
    "import pandas as pd\n",
    "import re\n",
    "\n",
    "def process_page(page):\n",
    "    text = page.extract_text()\n",
    "    \n",
    "    # Modified patterns\n",
    "    ein_pattern = r'\\b(\\d{2}\\s*[–-]\\s*\\d{7})\\b'  # Added word boundaries\n",
    "    quarter_pattern = r'(?:Correcting\\s+quarter|quarter)\\s*(\\d)'  # Made more flexible\n",
    "    year_pattern_1 = r'\\b\\d{2}\\s*[–-]\\s*\\d{7}\\s+(\\d{4})\\b'\n",
    "    year_pattern_2 = r'(?:calendar\\s+year|year).*?(\\d{4})'\n",
    "    \n",
    "    # Extract info using our patterns\n",
    "    ein = re.search(ein_pattern, text)\n",
    "    quarter = re.search(quarter_pattern, text)\n",
    "    \n",
    "    # Try both year patterns\n",
    "    year = None\n",
    "    year_match_1 = re.search(year_pattern_1, text)\n",
    "    year_match_2 = re.search(year_pattern_2, text, re.DOTALL | re.IGNORECASE)\n",
    "    \n",
    "    if year_match_1:\n",
    "        year = year_match_1.group(1)\n",
    "    elif year_match_2:\n",
    "        year = year_match_2.group(1)\n",
    "    \n",
    "    return {\n",
    "        'ein': ein.group(1) if ein else None,\n",
    "        'quarter': quarter.group(1) if quarter else None,\n",
    "        'year': year\n",
    "    }\n",
    "\n",
    "def process_941_pdf(pdf_path):\n",
    "    try:\n",
    "        with pdfplumber.open(pdf_path) as pdf:\n",
    "            # Get info from second page using our improved process_page function\n",
    "            page_info = process_page(pdf.pages[1])\n",
    "            \n",
    "            return {\n",
    "                'file_name': pdf_path.name,\n",
    "                **page_info  # Unpack the dictionary returned by process_page\n",
    "            }\n",
    "    except Exception as e:\n",
    "        print(f\"Error processing {pdf_path.name}: {str(e)}\")\n",
    "        return None\n",
    "\n",
    "def is_941_form(pdf_path):\n",
    "    try:\n",
    "        with pdfplumber.open(pdf_path) as pdf:\n",
    "            # Check first few pages for '941'\n",
    "            for page in pdf.pages[:2]:  # Check first 2 pages\n",
    "                text = page.extract_text()\n",
    "                if '941' in text:\n",
    "                    return True\n",
    "        return False\n",
    "    except Exception as e:\n",
    "        print(f\"Error checking {pdf_path.name}: {str(e)}\")\n",
    "        return False\n",
    "\n",
    "def process_all_941s(folder_path):\n",
    "    all_records = []\n",
    "    folder = Path(folder_path)\n",
    "    \n",
    "    # Get all PDFs\n",
    "    pdfs = folder.glob('*.pdf')\n",
    "    \n",
    "    for pdf_path in pdfs:\n",
    "        # First check if it's a 941 form\n",
    "        if is_941_form(pdf_path):\n",
    "            record = process_941_pdf(pdf_path)\n",
    "            if record:\n",
    "                all_records.append(record)\n",
    "    \n",
    "    return pd.DataFrame(all_records)"
   ]
  },
  {
   "cell_type": "markdown",
   "id": "f812eb0f-23cc-4785-a152-2e9486efd76b",
   "metadata": {},
   "source": [
    "**Process all of the good 941 forms**"
   ]
  },
  {
   "cell_type": "code",
   "execution_count": null,
   "id": "e4448e5f-31c6-4f81-9055-8102ae7b22f2",
   "metadata": {
    "scrolled": true,
    "vscode": {
     "languageId": "python"
    }
   },
   "outputs": [],
   "source": [
    "# Process files in your 941s folder\n",
    "df = process_all_941s(\"./941s\")\n",
    "\n",
    "# Look at the results\n",
    "print(\"\\nOverview of data:\")\n",
    "print(df.info())\n",
    "\n",
    "print(\"\\nSample of records:\")\n",
    "print(df.head())\n",
    "\n",
    "print(\"\\nCheck for missing values:\")\n",
    "print(df.isnull().sum())"
   ]
  },
  {
   "cell_type": "code",
   "execution_count": null,
   "id": "6a0e357f-e86d-49ab-8e7a-cbd7c1ac698d",
   "metadata": {
    "scrolled": true,
    "vscode": {
     "languageId": "python"
    }
   },
   "outputs": [
    {
     "name": "stdout",
     "output_type": "stream",
     "text": [
      "+------------+---------+------+\n",
      "| ein        | quarter | year |\n",
      "+------------+---------+------+\n",
      "| XX-XXX4548 | 2       | 2020 |\n",
      "| XX-XXX4548 | 3       | 2020 |\n",
      "| XX-XXX4548 | 4       | 2020 |\n",
      "| XX-XXX4548 | 1       | 2021 |\n",
      "| XX-XXX4548 | 2       | 2021 |\n",
      "| XX-XXX4548 | 3       | 2021 |\n",
      "| XX-XXX8728 | 2       | 2020 |\n",
      "| XX-XXX8728 | 3       | 2020 |\n",
      "| XX-XXX8728 | 4       | 2020 |\n",
      "| XX-XXX8728 | 1       | 2021 |\n",
      "| XX-XXX8728 | 2       | 2021 |\n",
      "| XX-XXX8728 | 2       | 2021 |\n",
      "| XX-XXX8332 | 4       | 2020 |\n",
      "| XX-XXX8332 | 3       | 2021 |\n",
      "| XX-XXX1098 | 1       | 2021 |\n",
      "+------------+---------+------+\n"
     ]
    }
   ],
   "source": [
    "%%coconut\n",
    "\n",
    "# preview the good 941 df\n",
    "from siuba import mutate, _, filter as siuba_filter\n",
    "\n",
    "df_941s_good = df.copy() \\\n",
    "    |> siuba_filter(_.ein.notna()) \\\n",
    "    |> mutate(ein = _.ein \\ \n",
    "        |> .str.replace(r' \\– ', '-', regex=True) \\ \n",
    "        |> .str.replace(r' ', '-', regex = True))\n",
    "\n",
    "df_941s_good \\\n",
    "    |> select(-_.file_name) \\\n",
    "    |> mutate(ein = _.ein.str[-4:].str.rjust(9, 'X').str.replace(r'(^.{2})', r'\\1-', regex=True)) \\\n",
    "    |> head(15) \\\n",
    "    |> table"
   ]
  },
  {
   "cell_type": "markdown",
   "id": "d5cb2df3-0cb4-404d-a5e4-0a9d3aedad90",
   "metadata": {},
   "source": [
    "**Export and read back in the good 941s df**"
   ]
  },
  {
   "cell_type": "code",
   "execution_count": null,
   "id": "e755312a-b23b-438d-9c4e-9d04288da09c",
   "metadata": {
    "vscode": {
     "languageId": "python"
    }
   },
   "outputs": [],
   "source": [
    "# save the 941 dataframe!\n",
    "df_941s_good.to_csv('good_941s.csv', index = False)"
   ]
  },
  {
   "cell_type": "code",
   "execution_count": 30,
   "id": "074a2fdb-0f51-46b6-8a29-d3a36d959476",
   "metadata": {
    "scrolled": true,
    "vscode": {
     "languageId": "python"
    }
   },
   "outputs": [
    {
     "name": "stdout",
     "output_type": "stream",
     "text": [
      "+------------+---------+------+\n",
      "| ein        | quarter | year |\n",
      "+------------+---------+------+\n",
      "| XX-XXX4548 | 2       | 2020 |\n",
      "| XX-XXX4548 | 3       | 2020 |\n",
      "| XX-XXX4548 | 4       | 2020 |\n",
      "| XX-XXX4548 | 1       | 2021 |\n",
      "| XX-XXX4548 | 2       | 2021 |\n",
      "| XX-XXX4548 | 3       | 2021 |\n",
      "| XX-XXX8728 | 2       | 2020 |\n",
      "| XX-XXX8728 | 3       | 2020 |\n",
      "| XX-XXX8728 | 4       | 2020 |\n",
      "| XX-XXX8728 | 1       | 2021 |\n",
      "| XX-XXX8728 | 2       | 2021 |\n",
      "| XX-XXX8728 | 2       | 2021 |\n",
      "| XX-XXX8332 | 4       | 2020 |\n",
      "| XX-XXX8332 | 3       | 2021 |\n",
      "| XX-XXX1098 | 1       | 2021 |\n",
      "| XX-XXX1098 | 2       | 2020 |\n",
      "| XX-XXX1098 | 2       | 2021 |\n",
      "| XX-XXX1098 | 3       | 2020 |\n",
      "| XX-XXX1098 | 3       | 2021 |\n",
      "| XX-XXX1098 | 4       | 2020 |\n",
      "| XX-XXX2498 | 1       | 2021 |\n",
      "| XX-XXX2498 | 2       | 2020 |\n",
      "| XX-XXX2498 | 2       | 2021 |\n",
      "| XX-XXX2498 | 3       | 2020 |\n",
      "| XX-XXX2498 | 2       | 2021 |\n",
      "| XX-XXX7059 | 1       | 2021 |\n",
      "| XX-XXX7059 | 2       | 2021 |\n",
      "| XX-XXX7059 | 3       | 2021 |\n",
      "| XX-XXX7485 | 2       | 2020 |\n",
      "| XX-XXX7485 | 2       | 2021 |\n",
      "| XX-XXX7485 | 3       | 2020 |\n",
      "| XX-XXX7485 | 3       | 2021 |\n",
      "| XX-XXX7485 | 4       | 2020 |\n",
      "| XX-XXX9541 | 1       | 2021 |\n",
      "| XX-XXX9541 | 2       | 2020 |\n",
      "| XX-XXX9541 | 2       | 2021 |\n",
      "| XX-XXX9541 | 3       | 2020 |\n",
      "| XX-XXX9541 | 3       | 2021 |\n",
      "| XX-XXX9541 | 4       | 2020 |\n",
      "| XX-XXX9062 | 4       | 2021 |\n",
      "| XX-XXX9062 | 2       | 2020 |\n",
      "| XX-XXX9062 | 3       | 2020 |\n",
      "| XX-XXX9062 | 4       | 2020 |\n",
      "| XX-XXX4890 | 2       | 2021 |\n",
      "| XX-XXX4890 | 3       | 2020 |\n",
      "| XX-XXX4890 | 3       | 2021 |\n",
      "| XX-XXX8205 | 1       | 2021 |\n",
      "| XX-XXX8205 | 2       | 2020 |\n",
      "| XX-XXX8205 | 2       | 2021 |\n",
      "| XX-XXX8205 | 3       | 2020 |\n",
      "| XX-XXX8205 | 4       | 2020 |\n",
      "| XX-XXX0671 | 1       | 2021 |\n",
      "| XX-XXX0671 | 2       | 2020 |\n",
      "| XX-XXX0671 | 2       | 2021 |\n",
      "| XX-XXX0671 | 3       | 2020 |\n",
      "| XX-XXX0671 | 3       | 2021 |\n",
      "| XX-XXX0671 | 4       | 2020 |\n",
      "| XX-XXX5545 | 1       | 2021 |\n",
      "| XX-XXX5545 | 2       | 2020 |\n",
      "| XX-XXX5545 | 2       | 2021 |\n",
      "| XX-XXX5545 | 3       | 2020 |\n",
      "| XX-XXX6160 | 2       | 2020 |\n",
      "| XX-XXX6160 | 3       | 2020 |\n",
      "| XX-XXX6160 | 4       | 2020 |\n",
      "| XX-XXX6160 | 1       | 2021 |\n",
      "| XX-XXX6160 | 2       | 2021 |\n",
      "| XX-XXX6160 | 3       | 2021 |\n",
      "| XX-XXX5217 | 1       | 2021 |\n",
      "| XX-XXX5217 | 2       | 2020 |\n",
      "| XX-XXX5217 | 2       | 2021 |\n",
      "| XX-XXX5217 | 3       | 2020 |\n",
      "| XX-XXX5217 | 3       | 2021 |\n",
      "| XX-XXX5217 | 4       | 2020 |\n",
      "| XX-XXX5018 | 1       | 2021 |\n",
      "| XX-XXX5018 | 2       | 2021 |\n",
      "| XX-XXX5018 | 3       | 2021 |\n",
      "| XX-XXX5018 | 4       | 2020 |\n",
      "| XX-XXX5039 | 1       | 2021 |\n",
      "| XX-XXX5039 | 2       | 2020 |\n",
      "| XX-XXX5039 | 2       | 2021 |\n",
      "| XX-XXX5039 | 3       | 2020 |\n",
      "| XX-XXX5039 | 3       | 2021 |\n",
      "| XX-XXX5039 | 4       | 2020 |\n",
      "+------------+---------+------+\n"
     ]
    }
   ],
   "source": [
    "%%coconut\n",
    "\n",
    "# read back in the 941 dataframe\n",
    "df_941s_good = pd.read_csv('good_941s.csv')\n",
    "\n",
    "df_941s_good \\\n",
    "    |> select(-_.file_name) \\\n",
    "    |> mutate(ein = _.ein.str[-4:].str.rjust(9, 'X').str.replace(r'(^.{2})', r'\\1-', regex=True)) \\\n",
    "    |> table"
   ]
  },
  {
   "cell_type": "markdown",
   "id": "234072ea-eb49-411a-9eca-3376e6b79ac5",
   "metadata": {},
   "source": [
    "**Define a function to process bad 941s**"
   ]
  },
  {
   "cell_type": "code",
   "execution_count": 31,
   "id": "5d4f9d97-baa9-4f23-ae7c-72f3d31c067c",
   "metadata": {
    "vscode": {
     "languageId": "python"
    }
   },
   "outputs": [],
   "source": [
    "import cv2\n",
    "import numpy as np\n",
    "import pytesseract\n",
    "from pdf2image import convert_from_path\n",
    "import re\n",
    "\n",
    "class Form941XCoordinates:\n",
    "    def __init__(self, width, height):\n",
    "        # Format: (x, y, width, height) - for the header section only\n",
    "        self.ein_first = (2685, 440, 160, 120)          # First part of EIN (2 digits)\n",
    "        self.ein_second = (3235, 440, 375, 120)         # Second part of EIN (7 digits)\n",
    "        self.quarter_box = (4385, 305, 130, 95)         # Quarter checkbox\n",
    "        self.year = (4210, 500, 250, 80)                # Year field\n",
    "\n",
    "def visualize_regions(image, coords):\n",
    "    \"\"\"Draw colored rectangles around the regions we're trying to extract.\"\"\"\n",
    "    debug_image = image.copy()\n",
    "    \n",
    "    # Define regions with their colors\n",
    "    regions = [\n",
    "        (coords.ein_first, \"EIN First\", (0, 0, 255)),      # Red\n",
    "        (coords.ein_second, \"EIN Second\", (0, 255, 0)),    # Green\n",
    "        (coords.quarter_box, \"Quarter\", (255, 0, 0)),      # Blue\n",
    "        (coords.year, \"Year\", (255, 255, 0))              # Cyan\n",
    "    ]\n",
    "    \n",
    "    # Draw rectangles and labels\n",
    "    for (x, y, w, h), label, color in regions:\n",
    "        cv2.rectangle(debug_image, (x, y), (x + w, y + h), color, 2)\n",
    "        cv2.putText(debug_image, label, (x, y-5), cv2.FONT_HERSHEY_SIMPLEX, 0.5, color, 2)\n",
    "    \n",
    "    cv2.imwrite('debug_visualization.png', debug_image)\n",
    "    return debug_image\n",
    "\n",
    "def process_quarter_roi(roi):\n",
    "    \"\"\"Enhanced processing specifically for quarter checkbox region\"\"\"\n",
    "    # Apply stronger contrast enhancement\n",
    "    roi = cv2.convertScaleAbs(roi, alpha=2.0, beta=-50)\n",
    "    \n",
    "    # Apply adaptive thresholding instead of global\n",
    "    roi = cv2.adaptiveThreshold(\n",
    "        roi,\n",
    "        255,\n",
    "        cv2.ADAPTIVE_THRESH_GAUSSIAN_C,\n",
    "        cv2.THRESH_BINARY_INV,\n",
    "        11,\n",
    "        2\n",
    "    )\n",
    "    \n",
    "    # Clean up noise\n",
    "    kernel = np.ones((2,2), np.uint8)\n",
    "    roi = cv2.morphologyEx(roi, cv2.MORPH_CLOSE, kernel)\n",
    "    \n",
    "    # Invert back for OCR\n",
    "    roi = cv2.bitwise_not(roi)\n",
    "    \n",
    "    return roi\n",
    "\n",
    "def validate_ein_part(ein_str, expected_length):\n",
    "    \"\"\"Validate and format EIN parts.\"\"\"\n",
    "    # Handle None or empty string\n",
    "    if not ein_str:\n",
    "        return ''\n",
    "        \n",
    "    # Remove any non-digit characters\n",
    "    digits = ''.join([char for char in str(ein_str) if char.isdigit()])\n",
    "    \n",
    "    if not digits:\n",
    "        return ''\n",
    "        \n",
    "    # If we get a single digit for the first part where we expect two,\n",
    "    # check if it might be a repeated digit (like '77' being read as '7')\n",
    "    if expected_length == 2 and len(digits) == 1:\n",
    "        digits = digits + digits  # Duplicate the digit\n",
    "    \n",
    "    # Pad with leading zeros if necessary\n",
    "    return digits.zfill(expected_length)\n",
    "\n",
    "def extract_941x_data(pdf_path):\n",
    "    \"\"\"Extract key information from Form 941-X header using targeted OCR.\"\"\"\n",
    "    print(\"\\nStarting extraction...\")\n",
    "    \n",
    "    pages = convert_from_path(pdf_path, dpi=600)\n",
    "    full_image = np.array(pages[1])\n",
    "    header_image = full_image[0:900, :]\n",
    "    header_image_bgr = cv2.cvtColor(header_image, cv2.COLOR_RGB2BGR)\n",
    "    \n",
    "    # Save the header image for inspection\n",
    "    cv2.imwrite('header_original.png', header_image_bgr)\n",
    "    \n",
    "    gray = cv2.cvtColor(header_image, cv2.COLOR_RGB2GRAY)\n",
    "    \n",
    "    coords = Form941XCoordinates(header_image.shape[1], header_image.shape[0])\n",
    "    \n",
    "    # Create and save visualization\n",
    "    debug_image = visualize_regions(header_image_bgr, coords)\n",
    "    \n",
    "    # Extract ROIs\n",
    "    def get_roi(coords_tuple, name):\n",
    "        x, y, w, h = coords_tuple\n",
    "        roi = gray[y:y+h, x:x+w]\n",
    "        padded = cv2.copyMakeBorder(roi, 10, 10, 10, 10, cv2.BORDER_CONSTANT, value=255)\n",
    "        cv2.imwrite(f'roi_{name}.png', padded)\n",
    "        return padded\n",
    "\n",
    "    ein_first_roi = get_roi(coords.ein_first, \"ein_first\")\n",
    "    ein_second_roi = get_roi(coords.ein_second, \"ein_second\")\n",
    "    quarter_roi = get_roi(coords.quarter_box, \"quarter\")\n",
    "    year_roi = get_roi(coords.year, \"year\")\n",
    "    \n",
    "    def threshold_roi(roi):\n",
    "        roi = cv2.GaussianBlur(roi, (3,3), 0)\n",
    "        roi = cv2.convertScaleAbs(roi, alpha=1.5, beta=0)\n",
    "        _, roi = cv2.threshold(roi, 127, 255, cv2.THRESH_BINARY)\n",
    "        return roi\n",
    "    \n",
    "    # Process and extract text from ROIs with enhanced EIN processing\n",
    "    ein_first = pytesseract.image_to_string(\n",
    "        threshold_roi(ein_first_roi),\n",
    "        config='--psm 7 -c tessedit_char_whitelist=0123456789'\n",
    "    ).strip()\n",
    "    \n",
    "    ein_first = validate_ein_part(ein_first, 2)  # Should be 2 digits\n",
    "    \n",
    "    ein_second = pytesseract.image_to_string(\n",
    "        threshold_roi(ein_second_roi),\n",
    "        config='--psm 7 -c tessedit_char_whitelist=0123456789'\n",
    "    ).strip()\n",
    "    \n",
    "    ein_second = validate_ein_part(ein_second, 7)  # Should be 7 digits\n",
    "    \n",
    "    # Enhanced quarter processing\n",
    "    quarter_processed = process_quarter_roi(quarter_roi)\n",
    "    cv2.imwrite('quarter_processed.png', quarter_processed)  # Save for inspection\n",
    "    \n",
    "    quarter = pytesseract.image_to_string(\n",
    "        quarter_processed,\n",
    "        config='--psm 7 -c tessedit_char_whitelist=1234'\n",
    "    ).strip()\n",
    "    \n",
    "    # Try alternative quarter detection if first attempt fails\n",
    "    if not quarter:\n",
    "        # Check for marked checkbox using pixel density\n",
    "        quarter_binary = cv2.threshold(quarter_roi, 127, 255, cv2.THRESH_BINARY_INV)[1]\n",
    "        regions = np.hsplit(quarter_binary, 4)  # Split into 4 regions\n",
    "        densities = [np.sum(region) / 255 for region in regions]\n",
    "        max_density_idx = np.argmax(densities)\n",
    "        if densities[max_density_idx] > 100:  # Threshold for considering a box checked\n",
    "            quarter = str(max_density_idx + 1)\n",
    "    \n",
    "    year = pytesseract.image_to_string(\n",
    "        threshold_roi(year_roi),\n",
    "        config='--psm 7 -c tessedit_char_whitelist=0123456789'\n",
    "    ).strip()\n",
    "    \n",
    "    print(f\"Raw EIN parts: '{ein_first}' - '{ein_second}'\")\n",
    "    print(f\"Quarter: '{quarter}'\")\n",
    "    print(f\"Year: '{year}'\")\n",
    "    \n",
    "    return {\n",
    "        \"ein\": f\"{ein_first}-{ein_second}\" if ein_first and ein_second else \"\",\n",
    "        \"quarter\": quarter if quarter else \"\",\n",
    "        \"year\": year if year else \"\"\n",
    "    }\n",
    "\n",
    "def process_941x_form(pdf_path):\n",
    "    \"\"\"Process a Form 941-X and return extracted data.\"\"\"\n",
    "    try:\n",
    "        data = extract_941x_data(pdf_path)\n",
    "        print(\"\\nExtracted data:\", data)\n",
    "        return data\n",
    "    except Exception as e:\n",
    "        print(f\"Processing error: {str(e)}\")\n",
    "        return None"
   ]
  },
  {
   "cell_type": "code",
   "execution_count": null,
   "id": "48ba0888-287f-4f52-87af-7394f926a2bf",
   "metadata": {
    "vscode": {
     "languageId": "python"
    }
   },
   "outputs": [],
   "source": [
    "# test the processing of a bad 941x form\n",
    "result = process_941x_form(\"./941s/KCJ Q4 2020.pdf\")\n",
    "\n",
    "print(result)"
   ]
  },
  {
   "cell_type": "markdown",
   "id": "c40ea22b-bb15-4954-8e27-36593e1bdb64",
   "metadata": {},
   "source": [
    "**Process all of the bad 941s!**"
   ]
  },
  {
   "cell_type": "code",
   "execution_count": null,
   "id": "e2841e9e-8a4e-4660-a6a8-19240c5b722b",
   "metadata": {
    "scrolled": true,
    "vscode": {
     "languageId": "python"
    }
   },
   "outputs": [],
   "source": [
    "import os\n",
    "import pandas as pd\n",
    "from pathlib import Path\n",
    "\n",
    "def process_folder(folder_path, df2):\n",
    "    \"\"\"\n",
    "    Process all PDFs in the specified folder that meet the criteria:\n",
    "    - Not in df2.file_name\n",
    "    - Don't contain '2848', '8821', or '943' in filename\n",
    "    \n",
    "    Args:\n",
    "        folder_path (str): Path to folder containing PDFs\n",
    "        df2 (pd.DataFrame): DataFrame containing file_name column of files to exclude\n",
    "    \n",
    "    Returns:\n",
    "        list: List of dictionaries containing processed results\n",
    "    \"\"\"\n",
    "    # Convert folder path to Path object\n",
    "    folder = Path(folder_path)\n",
    "    \n",
    "    # Get list of excluded filenames from df2\n",
    "    excluded_files = set(df_941s_good['file_name'].tolist())\n",
    "    \n",
    "    # Get all PDF files in the folder\n",
    "    results = []\n",
    "    \n",
    "    for pdf_file in folder.glob('*.pdf'):\n",
    "        # Skip if filename contains 2848 or 8821\n",
    "        if '2848' in pdf_file.name or '8821' in pdf_file.name or '943' in pdf_file.name:\n",
    "            print(f\"Skipping {pdf_file.name} - contains excluded form number\")\n",
    "            continue\n",
    "            \n",
    "        # Skip if file is in df2\n",
    "        if pdf_file.name in excluded_files:\n",
    "            print(f\"Skipping {pdf_file.name} - already processed\")\n",
    "            continue\n",
    "            \n",
    "        print(f\"\\nProcessing {pdf_file.name}...\")\n",
    "        try:\n",
    "            # Process the file using existing function\n",
    "            result = process_941x_form(str(pdf_file))\n",
    "            if result:\n",
    "                results.append({\n",
    "                    'file_name': pdf_file.name,\n",
    "                    'ein': result['ein'],\n",
    "                    'quarter': result['quarter'],\n",
    "                    'year': result['year']\n",
    "                })\n",
    "        except Exception as e:\n",
    "            print(f\"Error processing {pdf_file.name}: {str(e)}\")\n",
    "            continue\n",
    "    \n",
    "    # Convert results to DataFrame\n",
    "    df_941s_bad = pd.DataFrame(results)\n",
    "    \n",
    "    # Print summary\n",
    "    print(\"\\nProcessing complete!\")\n",
    "    print(f\"Total files processed: {len(results)}\")\n",
    "    \n",
    "    return df_941s_bad\n",
    "\n",
    "if __name__ == \"__main__\":\n",
    "    # Example usage\n",
    "    folder_path = \"./941s\"\n",
    "    df2 = pd.DataFrame({'file_name': ['already_processed.pdf']})  # Example df2\n",
    "    \n",
    "    df_941s_bad = process_folder(folder_path, df2)\n",
    "    print(\"\\nResults:\")"
   ]
  },
  {
   "cell_type": "code",
   "execution_count": 40,
   "id": "5414d70f-fed1-4536-8d03-d1384cc7c74d",
   "metadata": {
    "scrolled": true,
    "vscode": {
     "languageId": "python"
    }
   },
   "outputs": [
    {
     "name": "stdout",
     "output_type": "stream",
     "text": [
      "+------------+---------+------+\n",
      "| ein        | quarter | year |\n",
      "+------------+---------+------+\n",
      "| XX-XXX8326 | 2       | 2020 |\n",
      "| XX-XXX8326 | 3       | 2020 |\n",
      "| XX-XXX8326 | 4       | 2020 |\n",
      "| XX-XXX8142 | 1       | 2021 |\n",
      "| XX-XXX8142 | 2       | 2020 |\n",
      "| XX-XXX8142 | 2       | 2021 |\n",
      "| XX-XXX8142 | 3       | 2020 |\n",
      "| XX-XXX8142 | 3       | 2021 |\n",
      "| XX-XXX8142 | 4       | 2020 |\n",
      "| XX-XXX3863 | 2       | 2021 |\n",
      "| XX-XXX3863 | 3       | 2020 |\n",
      "| XX-XXX3863 | 3       | 2021 |\n",
      "| XX-XXX3863 | 4       | 2020 |\n",
      "| XX-XXX8326 | 1       | 2021 |\n",
      "| XX-XXX8326 | 2       | 2021 |\n",
      "+------------+---------+------+\n"
     ]
    }
   ],
   "source": [
    "%%coconut\n",
    "\n",
    "# preview the bad 941s df\n",
    "df_941s_bad \\\n",
    "    |> select(-_.file_name) \\\n",
    "    |> mutate(ein = _.ein.str[-4:].str.rjust(9, 'X').str.replace(r'(^.{2})', r'\\1-', regex=True)) \\\n",
    "    |> head(15) \\\n",
    "    |> table"
   ]
  },
  {
   "cell_type": "markdown",
   "id": "ea7efeb2-1b4f-457a-8f02-7b48f27f9860",
   "metadata": {},
   "source": [
    "**Export and read back in the good 941s df**"
   ]
  },
  {
   "cell_type": "code",
   "execution_count": null,
   "id": "639a990c-56d5-444c-82b6-f73590985b7d",
   "metadata": {
    "vscode": {
     "languageId": "python"
    }
   },
   "outputs": [],
   "source": [
    "# save the 941 dataframe\n",
    "df_941s_bad.to_csv('bad_941s', index = False)"
   ]
  },
  {
   "cell_type": "code",
   "execution_count": 42,
   "id": "eb9adfa9-3ea2-4212-8335-201895e83650",
   "metadata": {
    "scrolled": true,
    "vscode": {
     "languageId": "python"
    }
   },
   "outputs": [
    {
     "name": "stdout",
     "output_type": "stream",
     "text": [
      "+------------+---------+------+\n",
      "| ein        | quarter | year |\n",
      "+------------+---------+------+\n",
      "| XX-XXX8326 | 2       | 2020 |\n",
      "| XX-XXX8326 | 3       | 2020 |\n",
      "| XX-XXX8326 | 4       | 2020 |\n",
      "| XX-XXX8142 | 1       | 2021 |\n",
      "| XX-XXX8142 | 2       | 2020 |\n",
      "| XX-XXX8142 | 2       | 2021 |\n",
      "| XX-XXX8142 | 3       | 2020 |\n",
      "| XX-XXX8142 | 3       | 2021 |\n",
      "| XX-XXX8142 | 4       | 2020 |\n",
      "| XX-XXX3863 | 2       | 2021 |\n",
      "| XX-XXX3863 | 3       | 2020 |\n",
      "| XX-XXX3863 | 3       | 2021 |\n",
      "| XX-XXX3863 | 4       | 2020 |\n",
      "| XX-XXX8326 | 1       | 2021 |\n",
      "| XX-XXX8326 | 2       | 2021 |\n",
      "+------------+---------+------+\n"
     ]
    }
   ],
   "source": [
    "%%coconut\n",
    "\n",
    "# read back in the 941 dataframe\n",
    "df_941s_bad = pd.read_csv('bad_941s.csv')\n",
    "\n",
    "df_941s_bad \\\n",
    "    |> select(-_.file_name) \\\n",
    "    |> mutate(ein = _.ein.str[-4:].str.rjust(9, 'X').str.replace(r'(^.{2})', r'\\1-', regex=True)) \\\n",
    "    |> head(15) \\\n",
    "    |> table"
   ]
  },
  {
   "cell_type": "markdown",
   "id": "ec326869-c4d9-4faf-9e0f-bb937231271c",
   "metadata": {},
   "source": [
    "**Combine the good and bad pdf dataframes**"
   ]
  },
  {
   "cell_type": "code",
   "execution_count": 60,
   "id": "5b618572-01f7-40bd-b15d-44f25e165e8f",
   "metadata": {
    "scrolled": true,
    "vscode": {
     "languageId": "python"
    }
   },
   "outputs": [
    {
     "name": "stdout",
     "output_type": "stream",
     "text": [
      "+------------+---------+------+\n",
      "| ein        | quarter | year |\n",
      "+------------+---------+------+\n",
      "| XX-XXX4548 | 2       | 2020 |\n",
      "| XX-XXX4548 | 3       | 2020 |\n",
      "| XX-XXX4548 | 4       | 2020 |\n",
      "| XX-XXX4548 | 1       | 2021 |\n",
      "| XX-XXX4548 | 2       | 2021 |\n",
      "| XX-XXX4548 | 3       | 2021 |\n",
      "| XX-XXX8728 | 2       | 2020 |\n",
      "| XX-XXX8728 | 3       | 2020 |\n",
      "| XX-XXX8728 | 4       | 2020 |\n",
      "| XX-XXX8728 | 1       | 2021 |\n",
      "| XX-XXX8728 | 2       | 2021 |\n",
      "| XX-XXX8728 | 2       | 2021 |\n",
      "| XX-XXX8142 | 1       | 2021 |\n",
      "| XX-XXX8142 | 2       | 2020 |\n",
      "| XX-XXX8142 | 2       | 2021 |\n",
      "+------------+---------+------+\n"
     ]
    }
   ],
   "source": [
    "%%coconut\n",
    "\n",
    "from siuba import \\filter\n",
    "\n",
    "df_941s_combined = pd.concat([df_941s_good, df_941s_bad], ignore_index = True, axis = 0) \\\n",
    "    |> arrange(_.file_name) \\\n",
    "    |> filter(_.ein != '')\n",
    "\n",
    "df_941s_combined \\\n",
    "    |> select(-_.file_name) \\\n",
    "    |> mutate(ein = _.ein.str[-4:].str.rjust(9, 'X').str.replace(r'(^.{2})', r'\\1-', regex=True)) \\\n",
    "    |> head(15) \\\n",
    "    |> table"
   ]
  },
  {
   "cell_type": "markdown",
   "id": "2dc29da8-2314-4527-99c6-c7ea0bf47593",
   "metadata": {},
   "source": [
    "# **Step 3 - Munge 941-x forms for line 27 values**"
   ]
  },
  {
   "cell_type": "markdown",
   "id": "bd5070e6-37da-403c-88d3-430524bd1829",
   "metadata": {},
   "source": [
    "**Define a function for extracting line 27 values**"
   ]
  },
  {
   "cell_type": "code",
   "execution_count": 46,
   "id": "13401c34",
   "metadata": {
    "vscode": {
     "languageId": "python"
    }
   },
   "outputs": [],
   "source": [
    "import cv2\n",
    "import numpy as np\n",
    "import pytesseract\n",
    "from pdf2image import convert_from_path\n",
    "import re\n",
    "\n",
    "class Form941XCoordinates:\n",
    "    def __init__(self, width, height):\n",
    "        # Format: (x, y, width, height) - for the header section only\n",
    "        self.line_27 = (155, 55, 590, 110)          \n",
    "\n",
    "def visualize_regions(image, coords):\n",
    "    \"\"\"Draw colored rectangles around the regions we're trying to extract.\"\"\"\n",
    "    debug_image = image.copy()\n",
    "    \n",
    "    # Define regions with their colors\n",
    "    regions = [\n",
    "        (coords.line_27, \"Line 27 :-)\", (255, 255, 0))              # Cyan\n",
    "    ]\n",
    "    \n",
    "    # Draw rectangles and labels\n",
    "    for (x, y, w, h), label, color in regions:\n",
    "        cv2.rectangle(debug_image, (x, y), (x + w, y + h), color, 2)\n",
    "        cv2.putText(debug_image, label, (x, y-5), cv2.FONT_HERSHEY_SIMPLEX, 0.5, color, 2)\n",
    "    \n",
    "    cv2.imwrite('debug_visualization.png', debug_image)\n",
    "    return debug_image\n",
    "\n",
    "def extract_941x_data(pdf_path):\n",
    "    \"\"\"Extract line 27 from Form 941-X header using targeted OCR.\"\"\"\n",
    "    print(\"\\nStarting extraction...\")\n",
    "    \n",
    "    # Convert first page of PDF to image with higher DPI\n",
    "    pages = convert_from_path(pdf_path, dpi=600)\n",
    "    full_image = np.array(pages[2])\n",
    "    \n",
    "    # Crop just the header section (top 900 pixels)\n",
    "    header_image = full_image[3185:3760, 4050:4950]\n",
    "    header_image_bgr = cv2.cvtColor(header_image, cv2.COLOR_RGB2BGR)\n",
    "    \n",
    "    # Convert to grayscale for OCR\n",
    "    gray = cv2.cvtColor(header_image, cv2.COLOR_RGB2GRAY)\n",
    "    \n",
    "    # Create coordinates based on image size\n",
    "    coords = Form941XCoordinates(header_image.shape[1], header_image.shape[0])\n",
    "    \n",
    "    # Create and save visualization\n",
    "    debug_image = visualize_regions(header_image_bgr, coords)\n",
    "    \n",
    "    # Extract ROIs\n",
    "    def get_roi(coords_tuple, name):\n",
    "        x, y, w, h = coords_tuple\n",
    "        roi = gray[y:y+h, x:x+w]\n",
    "        padded = cv2.copyMakeBorder(roi, 10, 10, 10, 10, cv2.BORDER_CONSTANT, value=255)\n",
    "        cv2.imwrite(f'roi_{name}.png', padded)\n",
    "        return padded\n",
    "\n",
    "    line_27_roi = get_roi(coords.line_27, \"line_27\")\n",
    "    \n",
    "    def threshold_roi(roi):\n",
    "        # Enhanced preprocessing\n",
    "        roi = cv2.GaussianBlur(roi, (3,3), 0)\n",
    "        roi = cv2.convertScaleAbs(roi, alpha=1.5, beta=0)\n",
    "        _, roi = cv2.threshold(roi, 127, 255, cv2.THRESH_BINARY)\n",
    "        return roi\n",
    "    \n",
    "    # Process and extract text from each ROI\n",
    "    line_27 = pytesseract.image_to_string(\n",
    "        threshold_roi(line_27_roi),\n",
    "        config='--psm 7 -c tessedit_char_whitelist=0123456789'\n",
    "    ).strip()\n",
    "        \n",
    "    print(f\"Line 27: '{line_27}'\")\n",
    "    \n",
    "    return {\n",
    "        \"line 27\": line_27 if line_27 else \"\"\n",
    "    }\n",
    "\n",
    "def process_line_27(pdf_path):\n",
    "    \"\"\"Process a Form 941-X and return extracted line 27.\"\"\"\n",
    "    try:\n",
    "        data = extract_941x_data(pdf_path)\n",
    "        print(\"\\nExtracted data:\", data)\n",
    "        return data\n",
    "    except Exception as e:\n",
    "        print(f\"Processing error: {str(e)}\")\n",
    "        return None"
   ]
  },
  {
   "cell_type": "code",
   "execution_count": null,
   "id": "10c9e295-78dd-4f0c-a62f-49aadf0214cb",
   "metadata": {
    "vscode": {
     "languageId": "python"
    }
   },
   "outputs": [],
   "source": [
    "# test the function\n",
    "result = process_line_27(\"./941s/NSN Q1 2021 v2-70152ddbc1fd4c9da15829b4e5efad00897402e7.pdf\")\n",
    "\n",
    "print(result)"
   ]
  },
  {
   "cell_type": "markdown",
   "id": "7ab74976-853d-47ee-8bb4-1f3295f56f84",
   "metadata": {},
   "source": [
    "**Extract all the line 27 values!**"
   ]
  },
  {
   "cell_type": "code",
   "execution_count": null,
   "id": "48419f9d-2212-4d89-bee3-7ff537f12227",
   "metadata": {
    "scrolled": true,
    "vscode": {
     "languageId": "python"
    }
   },
   "outputs": [],
   "source": [
    "import os\n",
    "import pandas as pd\n",
    "from pathlib import Path\n",
    "\n",
    "def process_folder(folder_path):\n",
    "    \"\"\"\n",
    "    Process all PDFs in the specified folder that meet the criteria:\n",
    "    - Don't contain '2848', '8821', or '943' in filename\n",
    "    \n",
    "    Args:\n",
    "        folder_path (str): Path to folder containing PDFs\n",
    "    \n",
    "    Returns:\n",
    "        pd.DataFrame: DataFrame containing processed results\n",
    "    \"\"\"\n",
    "    # Convert folder path to Path object\n",
    "    folder = Path(folder_path)\n",
    "    \n",
    "    # Get all PDF files in the folder\n",
    "    results = []\n",
    "    \n",
    "    for pdf_file in folder.glob('*.pdf'):\n",
    "        # Skip if filename contains excluded form numbers\n",
    "        if any(form in pdf_file.name for form in ['2848', '8821', '943']):\n",
    "            print(f\"Skipping {pdf_file.name} - contains excluded form number\")\n",
    "            continue\n",
    "            \n",
    "        print(f\"\\nProcessing {pdf_file.name}...\")\n",
    "        try:\n",
    "            # Process the file using the line 27 extraction function\n",
    "            result = process_line_27(str(pdf_file))\n",
    "            if result:\n",
    "                results.append({\n",
    "                    'file_name': pdf_file.name,\n",
    "                    'line_27': result['line 27']\n",
    "                })\n",
    "                print(f\"Successfully processed {pdf_file.name}\")\n",
    "        except Exception as e:\n",
    "            print(f\"Error processing {pdf_file.name}: {str(e)}\")\n",
    "            continue\n",
    "    \n",
    "    # Convert results to DataFrame\n",
    "    results_df = pd.DataFrame(results)\n",
    "    \n",
    "    # Print summary\n",
    "    print(\"\\nProcessing complete!\")\n",
    "    print(f\"Total files processed: {len(results)}\")\n",
    "    \n",
    "    return results_df\n",
    "\n",
    "if __name__ == \"__main__\":\n",
    "    # Example usage\n",
    "    df_line27 = process_folder(\"./941s\")\n",
    "    print(\"\\nResults:\")\n",
    "    print(df_line27)"
   ]
  },
  {
   "cell_type": "code",
   "execution_count": 55,
   "id": "b14ce16e-dce2-483d-8328-8cb0a6189b56",
   "metadata": {
    "scrolled": true,
    "vscode": {
     "languageId": "python"
    }
   },
   "outputs": [
    {
     "name": "stdout",
     "output_type": "stream",
     "text": [
      "+-------+---------+\n",
      "| index | line_27 |\n",
      "+-------+---------+\n",
      "| 0     | 646831  |\n",
      "| 1     | 791070  |\n",
      "| 2     | 578313  |\n",
      "| 3     | 842800  |\n",
      "| 4     | 1773100 |\n",
      "| 5     | 2186100 |\n",
      "| 6     | 866721  |\n",
      "| 7     | 1027442 |\n",
      "| 8     | 377358  |\n",
      "| 9     | 2032059 |\n",
      "| 10    | 816728  |\n",
      "| 11    | 654438  |\n",
      "| 12    | 3235630 |\n",
      "| 13    | 4877512 |\n",
      "| 14    | 4139199 |\n",
      "+-------+---------+\n"
     ]
    }
   ],
   "source": [
    "%%coconut\n",
    "\n",
    "df_line27 \\\n",
    "     |> select(-_.file_name) \\\n",
    "     |> _.reset_index() \\\n",
    "     |> head(15) \\\n",
    "     |> table"
   ]
  },
  {
   "cell_type": "markdown",
   "id": "3097f9ef-6012-4725-a99b-7aeffab93b70",
   "metadata": {},
   "source": [
    "# **Step 4 - Join all 941-x dataframes**"
   ]
  },
  {
   "cell_type": "markdown",
   "id": "679c56e4-3097-4121-a52c-d3b22d9b94d0",
   "metadata": {},
   "source": [
    "**Join the combined 431 table with the new line 27 table**"
   ]
  },
  {
   "cell_type": "code",
   "execution_count": 63,
   "id": "2710af26-e346-40f0-98b5-b55d657fb3c5",
   "metadata": {
    "scrolled": true,
    "vscode": {
     "languageId": "python"
    }
   },
   "outputs": [
    {
     "name": "stdout",
     "output_type": "stream",
     "text": [
      "+------------+---------+------+---------+\n",
      "| ein        | quarter | year | line_27 |\n",
      "+------------+---------+------+---------+\n",
      "| XX-XXX4548 | 2       | 2020 | 646831  |\n",
      "| XX-XXX4548 | 3       | 2020 | 791070  |\n",
      "| XX-XXX4548 | 4       | 2020 | 578313  |\n",
      "| XX-XXX4548 | 1       | 2021 | 842800  |\n",
      "| XX-XXX4548 | 2       | 2021 | 1773100 |\n",
      "| XX-XXX4548 | 3       | 2021 | 2186100 |\n",
      "| XX-XXX8728 | 2       | 2020 | 2032059 |\n",
      "| XX-XXX8728 | 3       | 2020 | 816728  |\n",
      "| XX-XXX8728 | 4       | 2020 | 654438  |\n",
      "| XX-XXX8728 | 1       | 2021 | 3235630 |\n",
      "| XX-XXX8728 | 2       | 2021 | 4877512 |\n",
      "| XX-XXX8728 | 2       | 2021 | 4139199 |\n",
      "| XX-XXX8142 | 1       | 2021 | 1002241 |\n",
      "| XX-XXX8142 | 2       | 2020 | 524803  |\n",
      "| XX-XXX8142 | 2       | 2021 | 465617  |\n",
      "+------------+---------+------+---------+\n"
     ]
    }
   ],
   "source": [
    "%%coconut\n",
    "\n",
    "imperfect_941 = inner_join(df_941s_combined, df_line27, \n",
    "                    on = 'file_name')\n",
    "\n",
    "imperfect_941 \\\n",
    "    |> select(-_.file_name) \\\n",
    "    |> mutate(ein = _.ein.str[-4:].str.rjust(9, 'X').str.replace(r'(^.{2})', r'\\1-', regex=True)) \\\n",
    "    |> head(15) \\\n",
    "    |> table"
   ]
  },
  {
   "cell_type": "code",
   "execution_count": 64,
   "id": "8b481e80-ebbf-4a60-afea-61487f5e9a70",
   "metadata": {
    "vscode": {
     "languageId": "python"
    }
   },
   "outputs": [],
   "source": [
    "# save the 941 dataframe!\n",
    "imperfect_941.to_csv('imperfect_941.csv', index = False)"
   ]
  },
  {
   "cell_type": "code",
   "execution_count": 65,
   "id": "5618d757-8544-4255-b8c0-cbe56228b83f",
   "metadata": {
    "scrolled": true,
    "vscode": {
     "languageId": "python"
    }
   },
   "outputs": [
    {
     "name": "stdout",
     "output_type": "stream",
     "text": [
      "+------------+---------+------+---------+\n",
      "| ein        | quarter | year | line_27 |\n",
      "+------------+---------+------+---------+\n",
      "| XX-XXX4548 | 2       | 2020 | 646831  |\n",
      "| XX-XXX4548 | 3       | 2020 | 791070  |\n",
      "| XX-XXX4548 | 4       | 2020 | 578313  |\n",
      "| XX-XXX4548 | 1       | 2021 | 842800  |\n",
      "| XX-XXX4548 | 2       | 2021 | 1773100 |\n",
      "| XX-XXX4548 | 3       | 2021 | 2186100 |\n",
      "| XX-XXX8728 | 2       | 2020 | 2032059 |\n",
      "| XX-XXX8728 | 3       | 2020 | 816728  |\n",
      "| XX-XXX8728 | 4       | 2020 | 654438  |\n",
      "| XX-XXX8728 | 1       | 2021 | 3235630 |\n",
      "| XX-XXX8728 | 2       | 2021 | 4877512 |\n",
      "| XX-XXX8728 | 2       | 2021 | 4139199 |\n",
      "| XX-XXX8142 | 1       | 2021 | 1002241 |\n",
      "| XX-XXX8142 | 2       | 2020 | 524803  |\n",
      "| XX-XXX8142 | 2       | 2021 | 465617  |\n",
      "+------------+---------+------+---------+\n"
     ]
    }
   ],
   "source": [
    "%%coconut\n",
    "\n",
    "# read back in the 941 dataframe\n",
    "imperfect_941 = pd.read_csv('imperfect_941.csv')\n",
    "\n",
    "imperfect_941 \\\n",
    "    |> select(-_.file_name) \\\n",
    "    |> mutate(ein = _.ein.str[-4:].str.rjust(9, 'X').str.replace(r'(^.{2})', r'\\1-', regex=True)) \\\n",
    "    |> head(15) \\\n",
    "    |> table"
   ]
  },
  {
   "cell_type": "markdown",
   "id": "f59756d2-93c5-4fba-bbf0-a78c0b69185d",
   "metadata": {},
   "source": [
    "**Pivot**"
   ]
  },
  {
   "cell_type": "code",
   "execution_count": 66,
   "id": "c21e440f-c0cd-4f60-a9fb-8fa2a0279325",
   "metadata": {
    "vscode": {
     "languageId": "python"
    }
   },
   "outputs": [],
   "source": [
    "import pandas as pd\n",
    "\n",
    "def create_quarter_columns(df):\n",
    "    # Ensure quarter_year column exists\n",
    "    if 'quarter_year' not in df.columns:\n",
    "        df['quarter_year'] = df.apply(lambda x: f\"Q{x['quarter']}_{x['year']}\", axis=1)\n",
    "    \n",
    "    # Pivot\n",
    "    df_pivot = pd.pivot_table(\n",
    "        data=df,\n",
    "        index=['ein'],  # Group by EIN\n",
    "        columns='quarter_year',\n",
    "        values='line_27',\n",
    "        fill_value=pd.NA  # Fill missing values with NA\n",
    "    )\n",
    "    \n",
    "    # Add prefixes to column names\n",
    "    df_pivot.columns = [f'line27_{col}' for col in df_pivot.columns]\n",
    "    \n",
    "    # Reset index to keep 'ein' as a column\n",
    "    df_pivot = df_pivot.reset_index()\n",
    "    \n",
    "    return df_pivot\n",
    "\n",
    "# Perform the pivot\n",
    "perfect_941 = create_quarter_columns(imperfect_941.copy())"
   ]
  },
  {
   "cell_type": "code",
   "execution_count": 68,
   "id": "6bdc2c1e-e6e9-49a1-b2ba-1ca328e8a23d",
   "metadata": {
    "scrolled": true,
    "vscode": {
     "languageId": "python"
    }
   },
   "outputs": [
    {
     "name": "stdout",
     "output_type": "stream",
     "text": [
      "+------------+----------------+----------------+----------------+----------------+----------------+----------------+----------------+\n",
      "| ein        | line27_Q1_2021 | line27_Q2_2020 | line27_Q2_2021 | line27_Q3_2020 | line27_Q3_2021 | line27_Q4_2020 | line27_Q4_2021 |\n",
      "+------------+----------------+----------------+----------------+----------------+----------------+----------------+----------------+\n",
      "| XX-XXX9586 | 277760.0       | 483157.0       | 1532598.0      | 266823.0       | 1696713.0      | nan            | nan            |\n",
      "| XX-XXX8731 | 4264348.0      | 3429328.0      | 4310776.0      | 870632.0       | 5181663.0      | 243875.0       | nan            |\n",
      "| XX-XXX6238 | 3040590.0      | 2500000.0      | 3118500.0      | nan            | 3118500.0      | nan            | nan            |\n",
      "| XX-XXX1098 | 5585824.0      | 3965406.0      | 7976259.0      | 2525304.0      | 8340664.0      | 2259390.0      | nan            |\n",
      "| XX-XXX1055 | 5595961.0      | 929750.0       | 6969440.0      | 705990.0       | 7081925.0      | 812018.0       | nan            |\n",
      "| XX-XXX5564 | 12531605.0     | nan            | 14350257.0     | 2070931.0      | 14139881.0     | 1046725.0      | nan            |\n",
      "| XX-XXX8875 | 1185221.0      | 286500.0       | 1222557.0      | 419758.0       | 1196916.0      | 458407.0       | nan            |\n",
      "| XX-XXX4548 | 842800.0       | 646831.0       | 1773100.0      | 791070.0       | 2186100.0      | 578313.0       | nan            |\n",
      "| XX-XXX5217 | 3261530.0      | 1424088.0      | 3501239.0      | 1222428.0      | 3747142.0      | 923707.0       | nan            |\n",
      "| XX-XXX6167 | 1035126.0      | 460000.0       | 1158500.0      | 360000.0       | 1484000.0      | 280000.0       | nan            |\n",
      "| XX-XXX9062 | nan            | 4202506.0      | nan            | 957667.0       | nan            | 836629.0       | 6439424.0      |\n",
      "| XX-XXX6147 | 8577080.0      | 3722711.0      | 10433729.0     | 2623764.0      | 10860257.0     | 512783.0       | nan            |\n",
      "| XX-XXX6944 | nan            | 7015188.0      | 6929600.0      | nan            | 8251016.0      | nan            | nan            |\n",
      "| XX-XXX1440 | 6060866.0      | 4369134.0      | 5045577.0      | 1728717.0      | 6073389.0      | 961039.0       | nan            |\n",
      "| XX-XXX8702 | 13079807.0     | nan            | 3404412.5      | 4924163.0      | 13164862.0     | 574922.5       | nan            |\n",
      "+------------+----------------+----------------+----------------+----------------+----------------+----------------+----------------+\n"
     ]
    }
   ],
   "source": [
    "%%coconut\n",
    "\n",
    "# preview\n",
    "perfect_941 \\\n",
    "    |> mutate(ein = _.ein.str[-4:].str.rjust(9, 'X').str.replace(r'(^.{2})', r'\\1-', regex=True)) \\ \n",
    "    |> head(15) \\\n",
    "    |> table"
   ]
  },
  {
   "cell_type": "markdown",
   "id": "7430f52a-fa2b-43d9-ad3e-82c3086d04de",
   "metadata": {},
   "source": [
    "**Clean and save the perfect df**"
   ]
  },
  {
   "cell_type": "code",
   "execution_count": 69,
   "id": "a3d431f6-9f8d-4b12-a308-84de24dcc6c4",
   "metadata": {
    "scrolled": true,
    "vscode": {
     "languageId": "python"
    }
   },
   "outputs": [
    {
     "name": "stdout",
     "output_type": "stream",
     "text": [
      "+------------+----------------+----------------+----------------+----------------+----------------+----------------+\n",
      "| ein        | line27_Q2_2020 | line27_Q3_2020 | line27_Q4_2020 | line27_Q1_2021 | line27_Q2_2021 | line27_Q3_2021 |\n",
      "+------------+----------------+----------------+----------------+----------------+----------------+----------------+\n",
      "| XX-XXX9586 | 4831.57        | 2668.23        | nan            | 2777.6         | 15325.98       | 16967.13       |\n",
      "| XX-XXX8731 | 34293.28       | 8706.32        | 2438.75        | 42643.48       | 43107.76       | 51816.63       |\n",
      "| XX-XXX6238 | 25000.0        | nan            | nan            | 30405.9        | 31185.0        | 31185.0        |\n",
      "| XX-XXX1098 | 39654.06       | 25253.04       | 22593.9        | 55858.24       | 79762.59       | 83406.64       |\n",
      "| XX-XXX1055 | 9297.5         | 7059.9         | 8120.18        | 55959.61       | 69694.4        | 70819.25       |\n",
      "| XX-XXX5564 | nan            | 20709.31       | 10467.25       | 125316.05      | 143502.57      | 141398.81      |\n",
      "| XX-XXX8875 | 2865.0         | 4197.58        | 4584.07        | 11852.21       | 12225.57       | 11969.16       |\n",
      "| XX-XXX4548 | 6468.31        | 7910.7         | 5783.13        | 8428.0         | 17731.0        | 21861.0        |\n",
      "| XX-XXX5217 | 14240.88       | 12224.28       | 9237.07        | 32615.3        | 35012.39       | 37471.42       |\n",
      "| XX-XXX6167 | 4600.0         | 3600.0         | 2800.0         | 10351.26       | 11585.0        | 14840.0        |\n",
      "| XX-XXX6147 | 37227.11       | 26237.64       | 5127.83        | 85770.8        | 104337.29      | 108602.57      |\n",
      "| XX-XXX6944 | 70151.88       | nan            | nan            | nan            | 69296.0        | 82510.16       |\n",
      "| XX-XXX1440 | 43691.34       | 17287.17       | 9610.39        | 60608.66       | 50455.77       | 60733.89       |\n",
      "| XX-XXX8702 | nan            | 49241.63       | 5749.225       | 130798.07      | 34044.125      | 131648.62      |\n",
      "| XX-XXX3863 | nan            | 28251.23       | 4468.31        | nan            | 33374.88       | 42205.96       |\n",
      "+------------+----------------+----------------+----------------+----------------+----------------+----------------+\n"
     ]
    }
   ],
   "source": [
    "%%coconut\n",
    "\n",
    "from siuba import \\filter\n",
    "\n",
    "pd.set_option('display.float_format', '{:.2f}'.format)\n",
    "\n",
    "perfect_941_2 = perfect_941.copy() |> mutate(\n",
    "    line27_Q1_2021 = _.line27_Q1_2021 / 100,\n",
    "    line27_Q2_2020 = _.line27_Q2_2020 / 100,\n",
    "    line27_Q2_2021 = _.line27_Q2_2021 / 100,\n",
    "    line27_Q3_2020 = _.line27_Q3_2020 / 100,\n",
    "    line27_Q3_2021 = _.line27_Q3_2021 / 100,\n",
    "    line27_Q4_2020 = _.line27_Q4_2020 / 100,\n",
    "    line27_Q4_2021 = _.line27_Q4_2021 / 100\n",
    ") |> select(\n",
    "    _.ein,\n",
    "    _.line27_Q2_2020,\n",
    "    _.line27_Q3_2020,\n",
    "    _.line27_Q4_2020,\n",
    "    _.line27_Q1_2021,\n",
    "    _.line27_Q2_2021,\n",
    "    _.line27_Q3_2021\n",
    ") |> filter(_.ein != '26-4119062')\n",
    "\n",
    "perfect_941_2.to_csv('perfect_941.csv', index = False)\n",
    "\n",
    "perfect_941_2 \\\n",
    "    |> mutate(ein = _.ein.str[-4:].str.rjust(9, 'X').str.replace(r'(^.{2})', r'\\1-', regex=True)) \\\n",
    "    |> head(15) \\\n",
    "    |> table"
   ]
  },
  {
   "cell_type": "code",
   "execution_count": 70,
   "id": "00851d6c-d370-4687-ab4d-64890b0f2121",
   "metadata": {
    "scrolled": true,
    "vscode": {
     "languageId": "python"
    }
   },
   "outputs": [
    {
     "name": "stdout",
     "output_type": "stream",
     "text": [
      "+------------+----------------+----------------+----------------+----------------+----------------+----------------+\n",
      "| ein        | line27_Q2_2020 | line27_Q3_2020 | line27_Q4_2020 | line27_Q1_2021 | line27_Q2_2021 | line27_Q3_2021 |\n",
      "+------------+----------------+----------------+----------------+----------------+----------------+----------------+\n",
      "| XX-XXX9586 | 4831.57        | 2668.23        | nan            | 2777.6         | 15325.98       | 16967.13       |\n",
      "| XX-XXX8731 | 34293.28       | 8706.32        | 2438.75        | 42643.48       | 43107.76       | 51816.63       |\n",
      "| XX-XXX6238 | 25000.0        | nan            | nan            | 30405.9        | 31185.0        | 31185.0        |\n",
      "| XX-XXX1098 | 39654.06       | 25253.04       | 22593.9        | 55858.24       | 79762.59       | 83406.64       |\n",
      "| XX-XXX1055 | 9297.5         | 7059.9         | 8120.18        | 55959.61       | 69694.4        | 70819.25       |\n",
      "| XX-XXX5564 | nan            | 20709.31       | 10467.25       | 125316.05      | 143502.57      | 141398.81      |\n",
      "| XX-XXX8875 | 2865.0         | 4197.58        | 4584.07        | 11852.21       | 12225.57       | 11969.16       |\n",
      "| XX-XXX4548 | 6468.31        | 7910.7         | 5783.13        | 8428.0         | 17731.0        | 21861.0        |\n",
      "| XX-XXX5217 | 14240.88       | 12224.28       | 9237.07        | 32615.3        | 35012.39       | 37471.42       |\n",
      "| XX-XXX6167 | 4600.0         | 3600.0         | 2800.0         | 10351.26       | 11585.0        | 14840.0        |\n",
      "| XX-XXX6147 | 37227.11       | 26237.64       | 5127.83        | 85770.8        | 104337.29      | 108602.57      |\n",
      "| XX-XXX6944 | 70151.88       | nan            | nan            | nan            | 69296.0        | 82510.16       |\n",
      "| XX-XXX1440 | 43691.34       | 17287.17       | 9610.39        | 60608.66       | 50455.77       | 60733.89       |\n",
      "| XX-XXX8702 | nan            | 49241.63       | 5749.225       | 130798.07      | 34044.125      | 131648.62      |\n",
      "| XX-XXX3863 | nan            | 28251.23       | 4468.31        | nan            | 33374.88       | 42205.96       |\n",
      "+------------+----------------+----------------+----------------+----------------+----------------+----------------+\n"
     ]
    }
   ],
   "source": [
    "%%coconut\n",
    "\n",
    "import pandas as pd\n",
    "from siuba import *\n",
    "\n",
    "# load back in the perfect_941 df\n",
    "perfect_941 = pd.read_csv('perfect_941.csv')\n",
    "\n",
    "perfect_941 \\\n",
    "    |> mutate(ein = _.ein.str[-4:].str.rjust(9, 'X').str.replace(r'(^.{2})', r'\\1-', regex=True)) \\\n",
    "    |> head(15) \\\n",
    "    |>  table"
   ]
  },
  {
   "cell_type": "markdown",
   "id": "8018377d-db0b-47c0-82b3-fba47e09895f",
   "metadata": {},
   "source": [
    "# **Step 5 - Join the transactions and perfect 941-x dataframe**"
   ]
  },
  {
   "cell_type": "code",
   "execution_count": 74,
   "id": "d2b31834-d74c-4d84-aeda-f15abb798b15",
   "metadata": {
    "scrolled": true,
    "vscode": {
     "languageId": "python"
    }
   },
   "outputs": [
    {
     "name": "stdout",
     "output_type": "stream",
     "text": [
      "+------------+--------------+-----------------+-----------------+-----------------+-----------------+-----------------+-----------------+-----------------+\n",
      "| tin        | refund_total | refunds_Q2_2020 | refunds_Q3_2020 | refunds_Q4_2020 | refunds_Q1_2021 | refunds_Q2_2021 | refunds_Q3_2021 | refunds_Q4_2021 |\n",
      "+------------+--------------+-----------------+-----------------+-----------------+-----------------+-----------------+-----------------+-----------------+\n",
      "| XX-XXX5545 | 160048.23    | 35115.6         | 61591.56        | 0.0             | 63341.07        | 0.0             | 0.0             | 0.0             |\n",
      "| nan        | 2641.57      | 0.0             | 0.0             | 0.0             | 0.0             | 0.0             | 2641.57         | 0.0             |\n",
      "| nan        | 54802.05     | 7860.09         | 20082.07        | 26859.89        | 0.0             | 0.0             | 0.0             | 0.0             |\n",
      "| nan        | 11136.81     | 4297.54         | 4027.46         | 0.0             | 2811.81         | 0.0             | 0.0             | 0.0             |\n",
      "| nan        | 0.0          | 0.0             | 0.0             | 0.0             | 0.0             | 0.0             | 0.0             | 0.0             |\n",
      "| nan        | 0.0          | 0.0             | 0.0             | 0.0             | 0.0             | 0.0             | 0.0             | 0.0             |\n",
      "| nan        | 0.0          | 0.0             | 0.0             | 0.0             | 0.0             | 0.0             | 0.0             | 0.0             |\n",
      "| XX-XXX8326 | 0.0          | 0.0             | 0.0             | 0.0             | 0.0             | 0.0             | 0.0             | 0.0             |\n",
      "| nan        | 96603.36     | 96603.36        | 0.0             | 0.0             | 0.0             | 0.0             | 0.0             | 0.0             |\n",
      "| nan        | 0.0          | 0.0             | 0.0             | 0.0             | 0.0             | 0.0             | 0.0             | 0.0             |\n",
      "| nan        | 0.0          | 0.0             | 0.0             | 0.0             | 0.0             | 0.0             | 0.0             | 0.0             |\n",
      "| nan        | 0.0          | 0.0             | 0.0             | 0.0             | 0.0             | 0.0             | 0.0             | 0.0             |\n",
      "| XX-XXX0063 | 62612.66     | 21808.07        | 1947.35         | 0.0             | 0.0             | 0.0             | 38857.24        | 0.0             |\n",
      "| nan        | 37200.65     | 0.0             | 0.0             | 0.0             | 37200.65        | 0.0             | 0.0             | 0.0             |\n",
      "| nan        | 458.26       | 324.71          | 13.37           | 84.56           | 15.72           | 5.98            | 13.92           | 0.0             |\n",
      "+------------+--------------+-----------------+-----------------+-----------------+-----------------+-----------------+-----------------+-----------------+\n"
     ]
    }
   ],
   "source": [
    "%%coconut\n",
    "\n",
    "transactions_proc \\\n",
    "    |> select(-_.taxpayer_name) \\\n",
    "    |> mutate(tin = _.tin.str[-4:].str.rjust(9, 'X').str.replace(r'(^.{2})', r'\\1-', regex=True)) \\\n",
    "    |> head(15) \\\n",
    "    |> table"
   ]
  },
  {
   "cell_type": "code",
   "execution_count": 75,
   "id": "f6d12472-79ab-4389-9b95-9be53e9c1964",
   "metadata": {
    "scrolled": true,
    "vscode": {
     "languageId": "python"
    }
   },
   "outputs": [
    {
     "name": "stdout",
     "output_type": "stream",
     "text": [
      "+------------+--------------+--------------+-----------------+-----------------+---------------------+-----------------+---------------------+\n",
      "| tin        | refund_total | filing_total | refunds_Q2_2020 | refunds_Q2_2021 | erc_claimed_Q2_2021 | refunds_Q3_2021 | erc_claimed_Q3_2021 |\n",
      "+------------+--------------+--------------+-----------------+-----------------+---------------------+-----------------+---------------------+\n",
      "| XX-XXX5545 | 160048.23    | 54683.21     | 35115.6         | 0.0             | 3919.97             | 0.0             | nan                 |\n",
      "| XX-XXX8326 | 0.0          | 69251.24     | 0.0             | 0.0             | 14222.04            | 0.0             | 19186.57            |\n",
      "| XX-XXX0063 | 62612.66     | 196919.52    | 21808.07        | 0.0             | 47908.0             | 38857.24        | 38440.5             |\n",
      "| XX-XXX0665 | 0.0          | 76072.77     | 0.0             | 0.0             | 20583.0             | 0.0             | 25209.67            |\n",
      "| XX-XXX7357 | 63628.85     | 0.0          | 43034.96        | 0.0             | nan                 | 0.0             | nan                 |\n",
      "| XX-XXX5564 | 0.0          | 441393.99    | 0.0             | 0.0             | 143502.57           | 0.0             | 141398.81           |\n",
      "| XX-XXX9586 | 49135.57     | 42570.51     | 5749.65         | 17616.67        | 15325.98            | 19353.65        | 16967.13            |\n",
      "| XX-XXX6238 | 124755.21    | 117775.9     | 26768.04        | 32913.41        | 31185.0             | 32862.83        | 31185.0             |\n",
      "| XX-XXX8702 | 63302.9      | 351481.67    | 59269.06        | 0.0             | 34044.12            | 0.0             | 131648.62           |\n",
      "| XX-XXX2498 | 7415.63      | 190838.53    | 0.0             | 0.0             | 64407.04            | 0.0             | nan                 |\n",
      "| XX-XXX7059 | 0.0          | 506511.32    | 0.0             | 0.0             | 180900.17           | 0.0             | 172498.28           |\n",
      "| XX-XXX6147 | 4822.27      | 367303.24    | 3851.14         | 0.0             | 104337.29           | 519.27          | 108602.57           |\n",
      "| XX-XXX8521 | 5546.57      | 807572.7     | 0.0             | 382.81          | 162990.71           | 956.89          | 143910.38           |\n",
      "| XX-XXX7485 | 0.0          | 165908.34    | 0.0             | 0.0             | 51638.6             | 0.0             | 48065.85            |\n",
      "| XX-XXX8731 | 210073.14    | 183006.22    | 39845.8         | 49070.03        | 43107.76            | 61336.17        | 51816.63            |\n",
      "| XX-XXX8142 | 51610.81     | 55380.3      | 2319.42         | 5662.93         | 4656.17             | 17613.21        | 14414.34            |\n",
      "| XX-XXX9541 | 5878.23      | 21518.0      | 2270.32         | 0.0             | 6300.0              | 0.0             | 6300.0              |\n",
      "| XX-XXX9062 | 0.0          | 0.0          | 0.0             | 0.0             | nan                 | 0.0             | nan                 |\n",
      "| XX-XXX6944 | 0.0          | 221958.04    | 0.0             | 0.0             | 69296.0             | 0.0             | 82510.16            |\n",
      "| XX-XXX1537 | 49551.8      | 39665.3      | 15745.3         | 8857.69         | 6700.17             | 15656.2         | 11984.84            |\n",
      "+------------+--------------+--------------+-----------------+-----------------+---------------------+-----------------+---------------------+\n"
     ]
    }
   ],
   "source": [
    "%%coconut\n",
    "\n",
    "from siuba import \\filter\n",
    "\n",
    "# complete the left join between transactions and 941\n",
    "# and filter out NA EIN values\n",
    "erc = (\n",
    "    transactions_proc.merge(perfect_941,\n",
    "                             how = 'left',\n",
    "                             left_on = 'tin',\n",
    "                             right_on = 'ein'\n",
    "                           )\n",
    ") |> filter(~_.tin.isna())\n",
    "\n",
    "# rename line27 columns to erc_claimed\n",
    "erc = erc \\\n",
    "    |> _.rename(columns = {'line27_Q2_2020': 'erc_claimed_Q2_2020'}) \\\n",
    "    |> _.rename(columns = {'line27_Q3_2020': 'erc_claimed_Q3_2020'}) \\\n",
    "    |> _.rename(columns = {'line27_Q4_2020': 'erc_claimed_Q4_2020'}) \\\n",
    "    |> _.rename(columns = {'line27_Q1_2021': 'erc_claimed_Q1_2021'}) \\\n",
    "    |> _.rename(columns = {'line27_Q2_2021': 'erc_claimed_Q2_2021'}) \\\n",
    "    |> _.rename(columns = {'line27_Q3_2021': 'erc_claimed_Q3_2021'})\n",
    "\n",
    "# create a filing_total column for summing erc claimed for each quarter\n",
    "erc = erc \\\n",
    "    |> mutate(\n",
    "        filing_total = \n",
    "        _.erc_claimed_Q2_2020.fillna(0) + \n",
    "        _.erc_claimed_Q3_2020.fillna(0) + \n",
    "        _.erc_claimed_Q4_2020.fillna(0) + \n",
    "        _.erc_claimed_Q1_2021.fillna(0) + \n",
    "        _.erc_claimed_Q2_2021.fillna(0) + \n",
    "        _.erc_claimed_Q3_2021.fillna(0)\n",
    "        # + _.erc_claimed_Q4_2021.fillna(0)\n",
    "    ) |> _.round(2)\n",
    "\n",
    "# rearrange columns\n",
    "erc = erc \\\n",
    "    |> select(\n",
    "        'taxpayer_name', \n",
    "        'tin', \n",
    "        'refund_total', \n",
    "        'filing_total', \n",
    "        'refunds_Q2_2020',\n",
    "        'erc_claimed_Q2_2020',\n",
    "        'refunds_Q3_2020', \n",
    "        'erc_claimed_Q3_2020',\n",
    "        'refunds_Q4_2020', \n",
    "        'erc_claimed_Q4_2020',\n",
    "        'refunds_Q1_2021',\n",
    "        'erc_claimed_Q1_2021',\n",
    "        'refunds_Q2_2021', \n",
    "        'erc_claimed_Q2_2021',\n",
    "        'refunds_Q3_2021', \n",
    "        'erc_claimed_Q3_2021'\n",
    "        # ,'refunds_Q4_2021'\n",
    "        # ,'erc_claimed_Q4_2021'\n",
    ")\n",
    "\n",
    "erc |> select(-_.taxpayer_name) \\\n",
    "    |> mutate(tin = _.tin.str[-4:].str.rjust(9, 'X').str.replace(r'(^.{2})', r'\\1-', regex=True)) \\ \n",
    "    |> head(20) \\\n",
    "    |> table_s"
   ]
  },
  {
   "cell_type": "code",
   "execution_count": 37,
   "id": "3650758e-f823-4b53-9b8c-cc7b6eb6ffa6",
   "metadata": {
    "scrolled": true,
    "vscode": {
     "languageId": "python"
    }
   },
   "outputs": [],
   "source": [
    "# save the final erc file\n",
    "erc.to_csv('erc_01-30-25.csv', index = False)"
   ]
  },
  {
   "cell_type": "code",
   "execution_count": 78,
   "id": "f241c893-105c-48fe-b2cd-09d178643718",
   "metadata": {
    "scrolled": true,
    "vscode": {
     "languageId": "python"
    }
   },
   "outputs": [
    {
     "name": "stdout",
     "output_type": "stream",
     "text": [
      "+------------+--------------+--------------+-----------------+-----------------+---------------------+-----------------+---------------------+\n",
      "| tin        | refund_total | filing_total | refunds_Q2_2020 | refunds_Q2_2021 | erc_claimed_Q2_2021 | refunds_Q3_2021 | erc_claimed_Q3_2021 |\n",
      "+------------+--------------+--------------+-----------------+-----------------+---------------------+-----------------+---------------------+\n",
      "| XX-XXX5545 | 160048.23    | 54683.21     | 35115.6         | 0.0             | 3919.97             | 0.0             | nan                 |\n",
      "| XX-XXX8326 | 0.0          | 69251.24     | 0.0             | 0.0             | 14222.04            | 0.0             | 19186.57            |\n",
      "| XX-XXX0063 | 62612.66     | 196919.52    | 21808.07        | 0.0             | 47908.0             | 38857.24        | 38440.5             |\n",
      "| XX-XXX0665 | 0.0          | 76072.77     | 0.0             | 0.0             | 20583.0             | 0.0             | 25209.67            |\n",
      "| XX-XXX7357 | 63628.85     | 0.0          | 43034.96        | 0.0             | nan                 | 0.0             | nan                 |\n",
      "| XX-XXX5564 | 0.0          | 441393.99    | 0.0             | 0.0             | 143502.57           | 0.0             | 141398.81           |\n",
      "| XX-XXX9586 | 49135.57     | 42570.51     | 5749.65         | 17616.67        | 15325.98            | 19353.65        | 16967.13            |\n",
      "| XX-XXX6238 | 124755.21    | 117775.9     | 26768.04        | 32913.41        | 31185.0             | 32862.83        | 31185.0             |\n",
      "| XX-XXX8702 | 63302.9      | 351481.67    | 59269.06        | 0.0             | 34044.12            | 0.0             | 131648.62           |\n",
      "| XX-XXX2498 | 7415.63      | 190838.53    | 0.0             | 0.0             | 64407.04            | 0.0             | nan                 |\n",
      "| XX-XXX7059 | 0.0          | 506511.32    | 0.0             | 0.0             | 180900.17           | 0.0             | 172498.28           |\n",
      "| XX-XXX6147 | 4822.27      | 367303.24    | 3851.14         | 0.0             | 104337.29           | 519.27          | 108602.57           |\n",
      "| XX-XXX8521 | 5546.57      | 807572.7     | 0.0             | 382.81          | 162990.71           | 956.89          | 143910.38           |\n",
      "| XX-XXX7485 | 0.0          | 165908.34    | 0.0             | 0.0             | 51638.6             | 0.0             | 48065.85            |\n",
      "| XX-XXX8731 | 210073.14    | 183006.22    | 39845.8         | 49070.03        | 43107.76            | 61336.17        | 51816.63            |\n",
      "| XX-XXX8142 | 51610.81     | 55380.3      | 2319.42         | 5662.93         | 4656.17             | 17613.21        | 14414.34            |\n",
      "| XX-XXX9541 | 5878.23      | 21518.0      | 2270.32         | 0.0             | 6300.0              | 0.0             | 6300.0              |\n",
      "| XX-XXX9062 | 0.0          | 0.0          | 0.0             | 0.0             | nan                 | 0.0             | nan                 |\n",
      "| XX-XXX6944 | 0.0          | 221958.04    | 0.0             | 0.0             | 69296.0             | 0.0             | 82510.16            |\n",
      "| XX-XXX1537 | 49551.8      | 39665.3      | 15745.3         | 8857.69         | 6700.17             | 15656.2         | 11984.84            |\n",
      "| XX-XXX8728 | 138008.94    | 112472.11    | 25960.21        | 61218.06        | 45083.56            | 0.0             | nan                 |\n",
      "| XX-XXX3863 | 156563.92    | 108300.38    | 50606.16        | 49069.82        | 33374.88            | 40912.55        | 42205.96            |\n",
      "| XX-XXX6167 | 5826.85      | 47776.26     | 5826.85         | 0.0             | 11585.0             | 0.0             | 14840.0             |\n",
      "| XX-XXX4890 | 19109.08     | 57050.98     | 0.0             | 0.0             | 470.91              | 0.0             | 40222.92            |\n",
      "| XX-XXX7829 | 0.0          | 34159.38     | 0.0             | 0.0             | 10528.0             | 0.0             | 10024.0             |\n",
      "+------------+--------------+--------------+-----------------+-----------------+---------------------+-----------------+---------------------+\n"
     ]
    }
   ],
   "source": [
    "%%coconut\n",
    "\n",
    "import pandas as pd\n",
    "\n",
    "erc = pd.read_csv('erc_01-30-25.csv')\n",
    "\n",
    "erc |> select(-_.taxpayer_name) \\\n",
    "    |> mutate(tin = _.tin.str[-4:].str.rjust(9, 'X').str.replace(r'(^.{2})', r'\\1-', regex=True)) \\\n",
    "    |> head(25) \\\n",
    "    |> table_s"
   ]
  }
 ],
 "metadata": {
  "kernelspec": {
   "display_name": "Coconut",
   "language": "coconut",
   "name": "coconut"
  },
  "language_info": {
   "codemirror_mode": {
    "name": "ipython",
    "version": 3
   },
   "file_extension": ".coco",
   "mimetype": "text/x-python3",
   "name": "coconut",
   "pygments_lexer": "coconut",
   "version": "3.1.2"
  }
 },
 "nbformat": 4,
 "nbformat_minor": 5
}
